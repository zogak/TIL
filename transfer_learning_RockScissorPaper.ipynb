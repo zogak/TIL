{
  "nbformat": 4,
  "nbformat_minor": 0,
  "metadata": {
    "colab": {
      "name": "[DAY3-3] Transfer Learning을 통한 가위-바위-보 분류 분석 모델의 성능 개선_실습.ipynb의 사본",
      "provenance": [],
      "collapsed_sections": []
    },
    "kernelspec": {
      "name": "python3",
      "display_name": "Python 3"
    }
  },
  "cells": [
    {
      "cell_type": "code",
      "metadata": {
        "id": "bGEqpQmA_WZ6"
      },
      "source": [
        "from tensorflow import keras"
      ],
      "execution_count": null,
      "outputs": []
    },
    {
      "cell_type": "markdown",
      "metadata": {
        "id": "6Bht6Z5Cbnm_"
      },
      "source": [
        "## Transfer Learning 을 통한 가위-바위-보 분류 데이터 셋 분류 성능 개선"
      ]
    },
    {
      "cell_type": "markdown",
      "metadata": {
        "id": "LhbHXd2ZI1t3"
      },
      "source": [
        "### Step 1. Input tensor 와 Target tensor 준비(훈련데이터)"
      ]
    },
    {
      "cell_type": "markdown",
      "metadata": {
        "id": "axECPsnlb5lA"
      },
      "source": [
        "(1) 가위-바위-보 데이터셋 다운로드"
      ]
    },
    {
      "cell_type": "code",
      "metadata": {
        "id": "wpywvV4KMjIE",
        "colab": {
          "base_uri": "https://localhost:8080/"
        },
        "outputId": "dc03c8ec-b210-4426-c914-c3e82ec1f700"
      },
      "source": [
        "url = 'https://storage.googleapis.com/laurencemoroney-blog.appspot.com/rps.zip'\n",
        "\n",
        "path_to_zip = keras.utils.get_file('rps.zip',\n",
        "                                   origin=url,\n",
        "                                   extract=True,cache_dir='/content')"
      ],
      "execution_count": null,
      "outputs": [
        {
          "output_type": "stream",
          "text": [
            "Downloading data from https://storage.googleapis.com/laurencemoroney-blog.appspot.com/rps.zip\n",
            "200687616/200682221 [==============================] - 1s 0us/step\n"
          ],
          "name": "stdout"
        }
      ]
    },
    {
      "cell_type": "code",
      "metadata": {
        "id": "6CFDzcUpM2wJ",
        "colab": {
          "base_uri": "https://localhost:8080/"
        },
        "outputId": "98c2cef2-37ac-4de6-90e6-abaa158aa7a3"
      },
      "source": [
        "url = 'https://storage.googleapis.com/laurencemoroney-blog.appspot.com/rps-test-set.zip'\n",
        "\n",
        "path_to_zip = keras.utils.get_file('rps_test.zip',\n",
        "                                   origin=url,\n",
        "                                   extract=True, cache_dir='/content')"
      ],
      "execution_count": null,
      "outputs": [
        {
          "output_type": "stream",
          "text": [
            "Downloading data from https://storage.googleapis.com/laurencemoroney-blog.appspot.com/rps-test-set.zip\n",
            "29523968/29516758 [==============================] - 0s 0us/step\n"
          ],
          "name": "stdout"
        }
      ]
    },
    {
      "cell_type": "markdown",
      "metadata": {
        "id": "n5iHfTAhb-SM"
      },
      "source": [
        "(2) ImageDataGenerator를 이용해 이미지 파일을 load 하기 위한 경로 지정"
      ]
    },
    {
      "cell_type": "code",
      "metadata": {
        "id": "gmGW7BsTNbRz"
      },
      "source": [
        "train_dir = '/content/datasets/rps'\n",
        "test_dir = '/content/datasets/rps-test-set'"
      ],
      "execution_count": null,
      "outputs": []
    },
    {
      "cell_type": "code",
      "metadata": {
        "id": "cztPJXMjMnZ8"
      },
      "source": [
        ""
      ],
      "execution_count": null,
      "outputs": []
    },
    {
      "cell_type": "markdown",
      "metadata": {
        "id": "FJj4NG2ucAfU"
      },
      "source": [
        "(3) ImageDataGenerator 객체 생성  \n",
        "* 객체 생성 시 rescale 인자를 이용하여 텐서 내 원소의 범위를 [0 ~ 255] => [0 ~ 1] 로 ReScaling 진행"
      ]
    },
    {
      "cell_type": "code",
      "metadata": {
        "id": "TZ5bMKv0zHA7"
      },
      "source": [
        ""
      ],
      "execution_count": null,
      "outputs": []
    },
    {
      "cell_type": "code",
      "metadata": {
        "id": "-DT1tnXgMoo0"
      },
      "source": [
        "from tensorflow.keras.preprocessing.image import ImageDataGenerator"
      ],
      "execution_count": null,
      "outputs": []
    },
    {
      "cell_type": "code",
      "metadata": {
        "id": "toobDJJUMslq"
      },
      "source": [
        "train_datagen = ImageDataGenerator(rescale=1./255.)\n",
        "test_datagen = ImageDataGenerator(rescale=1./255.)"
      ],
      "execution_count": null,
      "outputs": []
    },
    {
      "cell_type": "markdown",
      "metadata": {
        "id": "OsAYG-IhcgsL"
      },
      "source": [
        "* .flow_from_directory() 메서드를 이용하여 학습데이터와 검증데이터를 위한 DirectoryIterator 객체 생성"
      ]
    },
    {
      "cell_type": "code",
      "metadata": {
        "id": "QWdw-5EKMywK",
        "colab": {
          "base_uri": "https://localhost:8080/"
        },
        "outputId": "32f7e1c0-da47-490f-9cb4-207a622251ed"
      },
      "source": [
        "train_generator = train_datagen.flow_from_directory(\n",
        "    train_dir,\n",
        "    target_size=(224,224),\n",
        "    batch_size=20,\n",
        "    shuffle=True,\n",
        "    class_mode='categorical',\n",
        "    subset='training',\n",
        "    seed=7)\n",
        "\n",
        "validation_generator = train_datagen.flow_from_directory(\n",
        "    train_dir,\n",
        "    target_size=(224,224),\n",
        "    batch_size=20,\n",
        "    shuffle=True,\n",
        "    class_mode='categorical',\n",
        "    subset='validation', seed=7)\n",
        "\n",
        "test_generator = test_datagen.flow_from_directory(\n",
        "    test_dir,\n",
        "    target_size=(224,224),\n",
        "    batch_size=20,\n",
        "    class_mode='categorical'\n",
        ")"
      ],
      "execution_count": null,
      "outputs": [
        {
          "output_type": "stream",
          "text": [
            "Found 2520 images belonging to 3 classes.\n",
            "Found 0 images belonging to 3 classes.\n",
            "Found 372 images belonging to 3 classes.\n"
          ],
          "name": "stdout"
        }
      ]
    },
    {
      "cell_type": "markdown",
      "metadata": {
        "id": "stk917_Sci0V"
      },
      "source": [
        "### Step 2. VGG16을 Backbone 으로 하는 모델 디자인 및 학습 정보 설정"
      ]
    },
    {
      "cell_type": "markdown",
      "metadata": {
        "id": "BP8hv-ZCcnQx"
      },
      "source": [
        "(1) Pre-trained 된 VGG16 모델 객체 생성\n",
        "  * imagenet 데이터를 이용해 학습된 모델 객체 생성\n",
        "  * classification layer 제외"
      ]
    },
    {
      "cell_type": "code",
      "metadata": {
        "id": "SsBdZgjQS_9m"
      },
      "source": [
        "from tensorflow.keras.applications import VGG16"
      ],
      "execution_count": null,
      "outputs": []
    },
    {
      "cell_type": "code",
      "metadata": {
        "id": "zHsguOaF7CMR",
        "colab": {
          "base_uri": "https://localhost:8080/"
        },
        "outputId": "734e84c2-71af-4233-d550-fd7d6c61dab3"
      },
      "source": [
        "conv_base = VGG16(include_top=False, weights = 'imagenet', input_shape=(224,224,3))"
      ],
      "execution_count": null,
      "outputs": [
        {
          "output_type": "stream",
          "text": [
            "Downloading data from https://storage.googleapis.com/tensorflow/keras-applications/vgg16/vgg16_weights_tf_dim_ordering_tf_kernels_notop.h5\n",
            "58892288/58889256 [==============================] - 1s 0us/step\n"
          ],
          "name": "stdout"
        }
      ]
    },
    {
      "cell_type": "markdown",
      "metadata": {
        "id": "18TfCRgEc_mb"
      },
      "source": [
        "(2) VGG16 Backbone 모델에 classification layer 추가"
      ]
    },
    {
      "cell_type": "code",
      "metadata": {
        "id": "xe8HApyF8YEk",
        "colab": {
          "base_uri": "https://localhost:8080/"
        },
        "outputId": "64517b65-5cb4-4233-f3f8-167598e1f636"
      },
      "source": [
        "conv_base.summary()"
      ],
      "execution_count": null,
      "outputs": [
        {
          "output_type": "stream",
          "text": [
            "Model: \"vgg16\"\n",
            "_________________________________________________________________\n",
            "Layer (type)                 Output Shape              Param #   \n",
            "=================================================================\n",
            "input_1 (InputLayer)         [(None, 224, 224, 3)]     0         \n",
            "_________________________________________________________________\n",
            "block1_conv1 (Conv2D)        (None, 224, 224, 64)      1792      \n",
            "_________________________________________________________________\n",
            "block1_conv2 (Conv2D)        (None, 224, 224, 64)      36928     \n",
            "_________________________________________________________________\n",
            "block1_pool (MaxPooling2D)   (None, 112, 112, 64)      0         \n",
            "_________________________________________________________________\n",
            "block2_conv1 (Conv2D)        (None, 112, 112, 128)     73856     \n",
            "_________________________________________________________________\n",
            "block2_conv2 (Conv2D)        (None, 112, 112, 128)     147584    \n",
            "_________________________________________________________________\n",
            "block2_pool (MaxPooling2D)   (None, 56, 56, 128)       0         \n",
            "_________________________________________________________________\n",
            "block3_conv1 (Conv2D)        (None, 56, 56, 256)       295168    \n",
            "_________________________________________________________________\n",
            "block3_conv2 (Conv2D)        (None, 56, 56, 256)       590080    \n",
            "_________________________________________________________________\n",
            "block3_conv3 (Conv2D)        (None, 56, 56, 256)       590080    \n",
            "_________________________________________________________________\n",
            "block3_pool (MaxPooling2D)   (None, 28, 28, 256)       0         \n",
            "_________________________________________________________________\n",
            "block4_conv1 (Conv2D)        (None, 28, 28, 512)       1180160   \n",
            "_________________________________________________________________\n",
            "block4_conv2 (Conv2D)        (None, 28, 28, 512)       2359808   \n",
            "_________________________________________________________________\n",
            "block4_conv3 (Conv2D)        (None, 28, 28, 512)       2359808   \n",
            "_________________________________________________________________\n",
            "block4_pool (MaxPooling2D)   (None, 14, 14, 512)       0         \n",
            "_________________________________________________________________\n",
            "block5_conv1 (Conv2D)        (None, 14, 14, 512)       2359808   \n",
            "_________________________________________________________________\n",
            "block5_conv2 (Conv2D)        (None, 14, 14, 512)       2359808   \n",
            "_________________________________________________________________\n",
            "block5_conv3 (Conv2D)        (None, 14, 14, 512)       2359808   \n",
            "_________________________________________________________________\n",
            "block5_pool (MaxPooling2D)   (None, 7, 7, 512)         0         \n",
            "=================================================================\n",
            "Total params: 14,714,688\n",
            "Trainable params: 14,714,688\n",
            "Non-trainable params: 0\n",
            "_________________________________________________________________\n"
          ],
          "name": "stdout"
        }
      ]
    },
    {
      "cell_type": "markdown",
      "metadata": {
        "id": "o4g29WFrdQYm"
      },
      "source": [
        "(3) VGG16 Backbone 모델의 가중치 동결(학습대상 가중치에서 제외)"
      ]
    },
    {
      "cell_type": "markdown",
      "metadata": {
        "id": "jDhAapMbd8jW"
      },
      "source": [
        "* VGG16 Backbone 모델의 가중치 동결 및 동결 후 학습대상 파라미터 개수 출력"
      ]
    },
    {
      "cell_type": "code",
      "metadata": {
        "id": "KHUnRXobd4aW"
      },
      "source": [
        "model = keras.Sequential()"
      ],
      "execution_count": null,
      "outputs": []
    },
    {
      "cell_type": "markdown",
      "metadata": {
        "id": "p58Gw79MePBh"
      },
      "source": [
        "(4) 학습을 위한 설정 정보 지정"
      ]
    },
    {
      "cell_type": "code",
      "metadata": {
        "id": "spdqys60-4x4"
      },
      "source": [
        "model.add(conv_base)\n",
        "model.add(keras.layers.Flatten())\n",
        "model.add(keras.layers.Dense(256, activation='relu'))\n",
        "model.add(keras.layers.Dense(3, activation='softmax'))"
      ],
      "execution_count": null,
      "outputs": []
    },
    {
      "cell_type": "code",
      "metadata": {
        "colab": {
          "base_uri": "https://localhost:8080/"
        },
        "id": "ZcKERykB4JaW",
        "outputId": "9123e80e-9420-4d6b-8c22-e3be3072316b"
      },
      "source": [
        "model.summary()"
      ],
      "execution_count": null,
      "outputs": [
        {
          "output_type": "stream",
          "text": [
            "Model: \"sequential\"\n",
            "_________________________________________________________________\n",
            "Layer (type)                 Output Shape              Param #   \n",
            "=================================================================\n",
            "vgg16 (Functional)           (None, 7, 7, 512)         14714688  \n",
            "_________________________________________________________________\n",
            "flatten (Flatten)            (None, 25088)             0         \n",
            "_________________________________________________________________\n",
            "dense (Dense)                (None, 256)               6422784   \n",
            "_________________________________________________________________\n",
            "dense_1 (Dense)              (None, 3)                 771       \n",
            "=================================================================\n",
            "Total params: 21,138,243\n",
            "Trainable params: 21,138,243\n",
            "Non-trainable params: 0\n",
            "_________________________________________________________________\n"
          ],
          "name": "stdout"
        }
      ]
    },
    {
      "cell_type": "code",
      "metadata": {
        "id": "TeCziymMdn66"
      },
      "source": [
        "#block5_conv3 layer만 제외하고 동결\n",
        "for layer in conv_base.layers:\n",
        "  if layer.name=='block5_conv3':\n",
        "    continue\n",
        "  layer.trainable=False"
      ],
      "execution_count": null,
      "outputs": []
    },
    {
      "cell_type": "code",
      "metadata": {
        "colab": {
          "base_uri": "https://localhost:8080/"
        },
        "id": "5pwvCTn69frJ",
        "outputId": "a825ee11-a405-4de5-ce81-be43a4fb7759"
      },
      "source": [
        "len(model.trainable_weights)"
      ],
      "execution_count": null,
      "outputs": [
        {
          "output_type": "execute_result",
          "data": {
            "text/plain": [
              "6"
            ]
          },
          "metadata": {
            "tags": []
          },
          "execution_count": 16
        }
      ]
    },
    {
      "cell_type": "code",
      "metadata": {
        "colab": {
          "base_uri": "https://localhost:8080/"
        },
        "id": "sg7F5nF-9vCQ",
        "outputId": "aa1f6c3d-442b-4b7c-d89c-bc10466a8d40"
      },
      "source": [
        "model.summary()"
      ],
      "execution_count": null,
      "outputs": [
        {
          "output_type": "stream",
          "text": [
            "Model: \"sequential\"\n",
            "_________________________________________________________________\n",
            "Layer (type)                 Output Shape              Param #   \n",
            "=================================================================\n",
            "vgg16 (Functional)           (None, 7, 7, 512)         14714688  \n",
            "_________________________________________________________________\n",
            "flatten (Flatten)            (None, 25088)             0         \n",
            "_________________________________________________________________\n",
            "dense (Dense)                (None, 256)               6422784   \n",
            "_________________________________________________________________\n",
            "dense_1 (Dense)              (None, 3)                 771       \n",
            "=================================================================\n",
            "Total params: 21,138,243\n",
            "Trainable params: 8,783,363\n",
            "Non-trainable params: 12,354,880\n",
            "_________________________________________________________________\n"
          ],
          "name": "stdout"
        }
      ]
    },
    {
      "cell_type": "code",
      "metadata": {
        "id": "psdRiZXg99pd"
      },
      "source": [
        "model.compile(loss='categorical_crossentropy',\n",
        "              optimizer=keras.optimizers.RMSprop(learning_rate=2e-5),\n",
        "              metrics=['accuracy'])"
      ],
      "execution_count": null,
      "outputs": []
    },
    {
      "cell_type": "markdown",
      "metadata": {
        "id": "3D-ob5jkfmZe"
      },
      "source": [
        "### Step 3. 모델에 데이터 generator 연결 후 학습 \n",
        "  * model.fit() 이용하여 데이터 연결 및 학습시키기\n",
        "  * 학습 과정은 history 변수에 저장"
      ]
    },
    {
      "cell_type": "code",
      "metadata": {
        "id": "eIl1NAH2-8Js",
        "colab": {
          "base_uri": "https://localhost:8080/"
        },
        "outputId": "9a7f65de-c6ef-4bbd-f72f-1efeb31dc0b5"
      },
      "source": [
        "history = model.fit(train_generator,\n",
        "          steps_per_epoch=len(train_generator), \n",
        "          epochs=10,\n",
        "          validation_data = validation_generator,\n",
        "          validation_steps = len(validation_generator))"
      ],
      "execution_count": null,
      "outputs": [
        {
          "output_type": "stream",
          "text": [
            "Epoch 1/10\n",
            "126/126 [==============================] - 14s 114ms/step - loss: 5.4306e-08 - accuracy: 1.0000\n",
            "Epoch 2/10\n",
            "126/126 [==============================] - 15s 116ms/step - loss: 4.7731e-08 - accuracy: 1.0000\n",
            "Epoch 3/10\n",
            "126/126 [==============================] - 14s 115ms/step - loss: 4.2717e-08 - accuracy: 1.0000\n",
            "Epoch 4/10\n",
            "126/126 [==============================] - 14s 113ms/step - loss: 3.6662e-08 - accuracy: 1.0000\n",
            "Epoch 5/10\n",
            "126/126 [==============================] - 14s 113ms/step - loss: 3.3587e-08 - accuracy: 1.0000\n",
            "Epoch 6/10\n",
            "126/126 [==============================] - 14s 113ms/step - loss: 3.0323e-08 - accuracy: 1.0000\n",
            "Epoch 7/10\n",
            "126/126 [==============================] - 14s 113ms/step - loss: 2.7248e-08 - accuracy: 1.0000\n",
            "Epoch 8/10\n",
            "126/126 [==============================] - 14s 114ms/step - loss: 2.5450e-08 - accuracy: 1.0000\n",
            "Epoch 9/10\n",
            "126/126 [==============================] - 14s 114ms/step - loss: 2.2801e-08 - accuracy: 1.0000\n",
            "Epoch 10/10\n",
            "126/126 [==============================] - 14s 114ms/step - loss: 2.1902e-08 - accuracy: 1.0000\n"
          ],
          "name": "stdout"
        }
      ]
    },
    {
      "cell_type": "markdown",
      "metadata": {
        "id": "9PS8aRYN_YJa"
      },
      "source": [
        "### Step 4. 테스트 데이터 셋을 통한 모델의 성능 평가"
      ]
    },
    {
      "cell_type": "code",
      "metadata": {
        "colab": {
          "base_uri": "https://localhost:8080/"
        },
        "id": "BiFrU2ks_5sT",
        "outputId": "9190970a-e47f-433c-8862-35afaa62d8b2"
      },
      "source": [
        "loss, accuracy = model.evaluate(test_generator)"
      ],
      "execution_count": null,
      "outputs": [
        {
          "output_type": "stream",
          "text": [
            "19/19 [==============================] - 5s 264ms/step - loss: 0.1644 - accuracy: 0.9382\n"
          ],
          "name": "stdout"
        }
      ]
    },
    {
      "cell_type": "code",
      "metadata": {
        "id": "MQarZ9C3f64d"
      },
      "source": [
        ""
      ],
      "execution_count": null,
      "outputs": []
    },
    {
      "cell_type": "code",
      "metadata": {
        "id": "r36X795xSXdV"
      },
      "source": [
        ""
      ],
      "execution_count": null,
      "outputs": []
    }
  ]
}