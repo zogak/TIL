{
  "nbformat": 4,
  "nbformat_minor": 0,
  "metadata": {
    "colab": {
      "name": "[Day1-3] Funtional API를 이용한 CNN 모델 구성_실습.ipynb의 사본",
      "provenance": [],
      "collapsed_sections": []
    },
    "kernelspec": {
      "name": "python3",
      "display_name": "Python 3"
    },
    "language_info": {
      "name": "python"
    },
    "accelerator": "GPU"
  },
  "cells": [
    {
      "cell_type": "markdown",
      "metadata": {
        "id": "9SqOuhA-xAMH"
      },
      "source": [
        "## CNN 모델을 이용한 CIFAR-10 데이터 셋 분류"
      ]
    },
    {
      "cell_type": "code",
      "metadata": {
        "id": "jgviPJSuzbvu"
      },
      "source": [
        "from tensorflow.keras.datasets import cifar10"
      ],
      "execution_count": null,
      "outputs": []
    },
    {
      "cell_type": "markdown",
      "metadata": {
        "id": "2wDDfkP1zeGV"
      },
      "source": [
        "* Step 1. Input tensor 와 Target tensor 준비(훈련데이터)"
      ]
    },
    {
      "cell_type": "code",
      "metadata": {
        "colab": {
          "base_uri": "https://localhost:8080/"
        },
        "id": "cYrXJLimzgPC",
        "outputId": "e4e6a47f-16ea-4233-8688-96b4354320df"
      },
      "source": [
        "(train_images, train_labels), (test_images, test_labels) = cifar10.load_data()"
      ],
      "execution_count": null,
      "outputs": [
        {
          "output_type": "stream",
          "text": [
            "Downloading data from https://www.cs.toronto.edu/~kriz/cifar-10-python.tar.gz\n",
            "170500096/170498071 [==============================] - 18s 0us/step\n"
          ],
          "name": "stdout"
        }
      ]
    },
    {
      "cell_type": "markdown",
      "metadata": {
        "id": "SZDaAICOzsfX"
      },
      "source": [
        "* Step 2. 입력데이터의 전처리 "
      ]
    },
    {
      "cell_type": "code",
      "metadata": {
        "id": "ggn8ambCzwNb",
        "colab": {
          "base_uri": "https://localhost:8080/"
        },
        "outputId": "981ff822-76e2-459d-fee6-0556f1ac06b5"
      },
      "source": [
        "train_images.shape, train_labels.shape"
      ],
      "execution_count": null,
      "outputs": [
        {
          "output_type": "execute_result",
          "data": {
            "text/plain": [
              "((50000, 32, 32, 3), (50000, 1))"
            ]
          },
          "metadata": {
            "tags": []
          },
          "execution_count": 4
        }
      ]
    },
    {
      "cell_type": "code",
      "metadata": {
        "id": "SXMWpOllzxpY",
        "colab": {
          "base_uri": "https://localhost:8080/"
        },
        "outputId": "63514d07-f911-4324-a889-45cd9ab7f8b8"
      },
      "source": [
        "test_images.shape, test_labels.shape"
      ],
      "execution_count": null,
      "outputs": [
        {
          "output_type": "execute_result",
          "data": {
            "text/plain": [
              "((10000, 32, 32, 3), (10000, 1))"
            ]
          },
          "metadata": {
            "tags": []
          },
          "execution_count": 5
        }
      ]
    },
    {
      "cell_type": "code",
      "metadata": {
        "id": "7Xs4OQKEzyUk"
      },
      "source": [
        "train_images = train_images/255.\n",
        "test_images = test_images/255."
      ],
      "execution_count": null,
      "outputs": []
    },
    {
      "cell_type": "code",
      "metadata": {
        "id": "IE-3tokDZ6x2"
      },
      "source": [
        "from tensorflow.keras.utils import to_categorical"
      ],
      "execution_count": null,
      "outputs": []
    },
    {
      "cell_type": "code",
      "metadata": {
        "id": "hxBqTM40zzcw"
      },
      "source": [
        "train_labels = to_categorical(train_labels)\n",
        "test_labels = to_categorical(test_labels)"
      ],
      "execution_count": null,
      "outputs": []
    },
    {
      "cell_type": "markdown",
      "metadata": {
        "id": "TK3Kmwlkz24E"
      },
      "source": [
        "* Step3. CNN 모델 디자인"
      ]
    },
    {
      "cell_type": "code",
      "metadata": {
        "id": "wq1ovLeBz6Fs"
      },
      "source": [
        "# feature_extracion :\n",
        "#  - conv layer(filter=32, size=(3,3)), pooling layer(max, (2, 2))\n",
        "#  - conv layer(filter=64, size=(3,3)), pooling layer(max, (2, 2))\n",
        "#  - conv layer(filter=64, size=(3,3))\n",
        "# flatten : \n",
        "# classification : \n",
        "#  - label 데이터를 고려하여 직접 디자인"
      ],
      "execution_count": null,
      "outputs": []
    },
    {
      "cell_type": "code",
      "metadata": {
        "id": "M4i4U-TX0SoP"
      },
      "source": [
        "from tensorflow.keras import models, layers"
      ],
      "execution_count": null,
      "outputs": []
    },
    {
      "cell_type": "code",
      "metadata": {
        "id": "yJ6ulqWNXy9t"
      },
      "source": [
        "input = layers.Input(shape=(32,32,3))"
      ],
      "execution_count": null,
      "outputs": []
    },
    {
      "cell_type": "code",
      "metadata": {
        "id": "QFvt74IK0V8B"
      },
      "source": [
        "# 모델 구성\n",
        "x = layers.Conv2D(filters=32, kernel_size=(3,3), activation='relu')(input)\n",
        "x = layers.MaxPool2D(pool_size=(2,2))(x)\n",
        "\n",
        "x = layers.Conv2D(filters=64, kernel_size=(3,3), activation='relu')(x)\n",
        "x = layers.MaxPool2D(pool_size=(2,2))(x)\n",
        "\n",
        "x = layers.Conv2D(filters=64, kernel_size=(3,3), activation='relu')(x)\n",
        "\n",
        "#flatten\n",
        "x = layers.Flatten()(x)\n",
        "\n",
        "x = layers.Dense(64, 'relu')(x)\n",
        "output = layers.Dense(10, 'softmax')(x)"
      ],
      "execution_count": null,
      "outputs": []
    },
    {
      "cell_type": "code",
      "metadata": {
        "id": "WTBGPJKV0dNQ"
      },
      "source": [
        "# 모델 객체 생성\n",
        "model = models.Model(inputs=[input], outputs=[output], name='cifar10_API_model')"
      ],
      "execution_count": null,
      "outputs": []
    },
    {
      "cell_type": "code",
      "metadata": {
        "id": "8W8XnenK0q5k",
        "colab": {
          "base_uri": "https://localhost:8080/"
        },
        "outputId": "f79671a2-1569-4f9b-ff3b-5a6af4f56e2f"
      },
      "source": [
        "model.summary()"
      ],
      "execution_count": null,
      "outputs": [
        {
          "output_type": "stream",
          "text": [
            "Model: \"cifar10_API_model\"\n",
            "_________________________________________________________________\n",
            "Layer (type)                 Output Shape              Param #   \n",
            "=================================================================\n",
            "input_2 (InputLayer)         [(None, 32, 32, 3)]       0         \n",
            "_________________________________________________________________\n",
            "conv2d (Conv2D)              (None, 30, 30, 32)        896       \n",
            "_________________________________________________________________\n",
            "max_pooling2d (MaxPooling2D) (None, 15, 15, 32)        0         \n",
            "_________________________________________________________________\n",
            "conv2d_1 (Conv2D)            (None, 13, 13, 64)        18496     \n",
            "_________________________________________________________________\n",
            "max_pooling2d_1 (MaxPooling2 (None, 6, 6, 64)          0         \n",
            "_________________________________________________________________\n",
            "conv2d_2 (Conv2D)            (None, 4, 4, 64)          36928     \n",
            "_________________________________________________________________\n",
            "flatten (Flatten)            (None, 1024)              0         \n",
            "_________________________________________________________________\n",
            "dense (Dense)                (None, 64)                65600     \n",
            "_________________________________________________________________\n",
            "dense_1 (Dense)              (None, 10)                650       \n",
            "=================================================================\n",
            "Total params: 122,570\n",
            "Trainable params: 122,570\n",
            "Non-trainable params: 0\n",
            "_________________________________________________________________\n"
          ],
          "name": "stdout"
        }
      ]
    },
    {
      "cell_type": "markdown",
      "metadata": {
        "id": "IUIW52Hw0xIr"
      },
      "source": [
        "* Step4. 학습에 필요한 정보 설정"
      ]
    },
    {
      "cell_type": "code",
      "metadata": {
        "id": "0tKN6YsO05gH"
      },
      "source": [
        "model.compile(optimizer='adam', loss='categorical_crossentropy', metrics=['accuracy'])"
      ],
      "execution_count": null,
      "outputs": []
    },
    {
      "cell_type": "markdown",
      "metadata": {
        "id": "ta1gX9VL09Ln"
      },
      "source": [
        "* Step5. 모델에 데이터 연결하여 학습"
      ]
    },
    {
      "cell_type": "code",
      "metadata": {
        "id": "a41aSLZE1FMu",
        "colab": {
          "base_uri": "https://localhost:8080/"
        },
        "outputId": "ad2fc4a7-fc25-4d17-a5d4-c0749917b283"
      },
      "source": [
        "model.fit(train_images, train_labels, epochs=10, batch_size=32, validation_split=0.2)"
      ],
      "execution_count": null,
      "outputs": [
        {
          "output_type": "stream",
          "text": [
            "Epoch 1/10\n",
            "1250/1250 [==============================] - 37s 4ms/step - loss: 1.5552 - accuracy: 0.4309 - val_loss: 1.2919 - val_accuracy: 0.5383\n",
            "Epoch 2/10\n",
            "1250/1250 [==============================] - 5s 4ms/step - loss: 1.1900 - accuracy: 0.5773 - val_loss: 1.1201 - val_accuracy: 0.6058\n",
            "Epoch 3/10\n",
            "1250/1250 [==============================] - 5s 4ms/step - loss: 1.0272 - accuracy: 0.6394 - val_loss: 1.0261 - val_accuracy: 0.6435\n",
            "Epoch 4/10\n",
            "1250/1250 [==============================] - 4s 4ms/step - loss: 0.9133 - accuracy: 0.6812 - val_loss: 0.9551 - val_accuracy: 0.6665\n",
            "Epoch 5/10\n",
            "1250/1250 [==============================] - 5s 4ms/step - loss: 0.8344 - accuracy: 0.7083 - val_loss: 0.9340 - val_accuracy: 0.6737\n",
            "Epoch 6/10\n",
            "1250/1250 [==============================] - 5s 4ms/step - loss: 0.7762 - accuracy: 0.7277 - val_loss: 0.9079 - val_accuracy: 0.6864\n",
            "Epoch 7/10\n",
            "1250/1250 [==============================] - 5s 4ms/step - loss: 0.7140 - accuracy: 0.7501 - val_loss: 0.8814 - val_accuracy: 0.6981\n",
            "Epoch 8/10\n",
            "1250/1250 [==============================] - 5s 4ms/step - loss: 0.6613 - accuracy: 0.7699 - val_loss: 0.9087 - val_accuracy: 0.6978\n",
            "Epoch 9/10\n",
            "1250/1250 [==============================] - 5s 4ms/step - loss: 0.6192 - accuracy: 0.7823 - val_loss: 0.8722 - val_accuracy: 0.7079\n",
            "Epoch 10/10\n",
            "1250/1250 [==============================] - 5s 4ms/step - loss: 0.5759 - accuracy: 0.7984 - val_loss: 0.9076 - val_accuracy: 0.7004\n"
          ],
          "name": "stdout"
        },
        {
          "output_type": "execute_result",
          "data": {
            "text/plain": [
              "<tensorflow.python.keras.callbacks.History at 0x7f65d03c2950>"
            ]
          },
          "metadata": {
            "tags": []
          },
          "execution_count": 20
        }
      ]
    },
    {
      "cell_type": "markdown",
      "metadata": {
        "id": "6Mko1k1o47sk"
      },
      "source": [
        "* Step6. test 데이터 셋을 이용하여 모델의 성능 평가"
      ]
    },
    {
      "cell_type": "code",
      "metadata": {
        "id": "Ls0lv8hR1Gne",
        "colab": {
          "base_uri": "https://localhost:8080/"
        },
        "outputId": "793bdd9c-5c85-453e-cb11-b61274ebd6d8"
      },
      "source": [
        "loss, accuracy = model.evaluate(test_images, test_labels)"
      ],
      "execution_count": null,
      "outputs": [
        {
          "output_type": "stream",
          "text": [
            "313/313 [==============================] - 1s 3ms/step - loss: 0.9328 - accuracy: 0.6966\n"
          ],
          "name": "stdout"
        }
      ]
    },
    {
      "cell_type": "code",
      "metadata": {
        "id": "HjBBgLYIeYjq"
      },
      "source": [
        ""
      ],
      "execution_count": null,
      "outputs": []
    }
  ]
}