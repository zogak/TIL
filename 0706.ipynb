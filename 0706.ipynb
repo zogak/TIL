{
  "nbformat": 4,
  "nbformat_minor": 0,
  "metadata": {
    "colab": {
      "name": "0706.ipynb",
      "provenance": []
    },
    "kernelspec": {
      "name": "python3",
      "display_name": "Python 3"
    },
    "language_info": {
      "name": "python"
    },
    "accelerator": "GPU"
  },
  "cells": [
    {
      "cell_type": "code",
      "metadata": {
        "id": "ZaNBAT-wOY_A"
      },
      "source": [
        "import tensorflow as tf\n",
        "import numpy as np\n",
        "import requests\n",
        "import io"
      ],
      "execution_count": null,
      "outputs": []
    },
    {
      "cell_type": "code",
      "metadata": {
        "id": "kUbtDTbZR3lP"
      },
      "source": [
        "cifar_label_name=['apple', 'beaver', 'bottle', 'butterfly', 'castle',\n",
        "'clock', 'couch', 'leopard', 'rose', 'shark']\n",
        "\n",
        "# requests 라이브러리를 이용해 데이터 다운로드\n",
        "data_url = 'https://codepresso-online-platform-public.s3.ap-northeast-2.amazonaws.com/learning-resourse/Tensorflow+2.0+%EB%94%A5%EB%9F%AC%EB%8B%9D+%EC%99%84%EB%B2%BD+%EA%B0%80%EC%9D%B4%EB%93%9C/cifar-10-codepresso.npz'\n",
        "response = requests.get(data_url)\n",
        "response.raise_for_status()\n",
        "\n",
        "# 다운로드 받은 데이터를 읽어 들여 Input tensor 와 Target tensor 준비\n",
        "with np.load(io.BytesIO(response.content)) as cifar_10_codepresso_data:\n",
        "  # 학습 이미지 데이터(np.ndarry, shape=(5000, 32, 32, 3))\n",
        "  train_images = cifar_10_codepresso_data['train_images']\n",
        "  # 학습 라벨 데이터(np.ndarry, shape=(5000, ))\n",
        "  train_labels = cifar_10_codepresso_data['train_labels']\n",
        "\n",
        "  # 테스트 이미지 데이터(np.ndarry, shape=(1000, 32, 32, 3))\n",
        "  test_images = cifar_10_codepresso_data['test_images']\n",
        "  # 테스트 라벨 데이터(np.ndarry, shape=(1000, ))\n",
        "  test_labels = cifar_10_codepresso_data['test_labels']"
      ],
      "execution_count": null,
      "outputs": []
    },
    {
      "cell_type": "code",
      "metadata": {
        "colab": {
          "base_uri": "https://localhost:8080/"
        },
        "id": "IMS-UnUySOAM",
        "outputId": "792aab95-a5a8-43af-9b1e-2ceb7b86bbf8"
      },
      "source": [
        "test_images.shape, test_labels.shape"
      ],
      "execution_count": null,
      "outputs": [
        {
          "output_type": "execute_result",
          "data": {
            "text/plain": [
              "((1000, 32, 32, 3), (1000,))"
            ]
          },
          "metadata": {
            "tags": []
          },
          "execution_count": 8
        }
      ]
    },
    {
      "cell_type": "code",
      "metadata": {
        "colab": {
          "base_uri": "https://localhost:8080/"
        },
        "id": "zp14ikD7Sg8-",
        "outputId": "4792a7e5-096b-4970-cc46-ee76380c275c"
      },
      "source": [
        "train_images.shape, train_labels.shape"
      ],
      "execution_count": null,
      "outputs": [
        {
          "output_type": "execute_result",
          "data": {
            "text/plain": [
              "((5000, 32, 32, 3), (5000,))"
            ]
          },
          "metadata": {
            "tags": []
          },
          "execution_count": 9
        }
      ]
    },
    {
      "cell_type": "code",
      "metadata": {
        "id": "LXz7HQc0Sosd"
      },
      "source": [
        "train_images = train_images/255.\n",
        "test_images = test_images/255."
      ],
      "execution_count": null,
      "outputs": []
    },
    {
      "cell_type": "code",
      "metadata": {
        "colab": {
          "base_uri": "https://localhost:8080/"
        },
        "id": "dhovnuRCT0a7",
        "outputId": "78f41ac2-29db-4793-8938-2028265fe77c"
      },
      "source": [
        "train_images[:1]"
      ],
      "execution_count": null,
      "outputs": [
        {
          "output_type": "execute_result",
          "data": {
            "text/plain": [
              "array([[[[0.32941176, 0.32941176, 0.3254902 ],\n",
              "         [0.33333333, 0.33333333, 0.32156863],\n",
              "         [0.32941176, 0.30588235, 0.29019608],\n",
              "         ...,\n",
              "         [0.38431373, 0.38823529, 0.38431373],\n",
              "         [0.42352941, 0.42745098, 0.41960784],\n",
              "         [0.43137255, 0.42352941, 0.4       ]],\n",
              "\n",
              "        [[0.42745098, 0.42745098, 0.41960784],\n",
              "         [0.40392157, 0.40392157, 0.39607843],\n",
              "         [0.38431373, 0.36470588, 0.35294118],\n",
              "         ...,\n",
              "         [0.39607843, 0.39607843, 0.4       ],\n",
              "         [0.42352941, 0.42745098, 0.42352941],\n",
              "         [0.37254902, 0.36470588, 0.34509804]],\n",
              "\n",
              "        [[0.50588235, 0.50588235, 0.47058824],\n",
              "         [0.4627451 , 0.4627451 , 0.48627451],\n",
              "         [0.43529412, 0.43137255, 0.44313725],\n",
              "         ...,\n",
              "         [0.30980392, 0.31372549, 0.30980392],\n",
              "         [0.39215686, 0.39607843, 0.38431373],\n",
              "         [0.41176471, 0.40392157, 0.38039216]],\n",
              "\n",
              "        ...,\n",
              "\n",
              "        [[0.25882353, 0.25098039, 0.23921569],\n",
              "         [0.24705882, 0.22745098, 0.20392157],\n",
              "         [0.2627451 , 0.21960784, 0.17647059],\n",
              "         ...,\n",
              "         [0.2745098 , 0.27058824, 0.25490196],\n",
              "         [0.17254902, 0.17647059, 0.17647059],\n",
              "         [0.24313725, 0.25098039, 0.27058824]],\n",
              "\n",
              "        [[0.25490196, 0.24313725, 0.21568627],\n",
              "         [0.33333333, 0.29411765, 0.23921569],\n",
              "         [0.28235294, 0.24313725, 0.19215686],\n",
              "         ...,\n",
              "         [0.30980392, 0.31372549, 0.3372549 ],\n",
              "         [0.30588235, 0.31372549, 0.3254902 ],\n",
              "         [0.37254902, 0.37254902, 0.38823529]],\n",
              "\n",
              "        [[0.19215686, 0.18431373, 0.14509804],\n",
              "         [0.22745098, 0.20784314, 0.16862745],\n",
              "         [0.20392157, 0.17254902, 0.1372549 ],\n",
              "         ...,\n",
              "         [0.34509804, 0.34901961, 0.37647059],\n",
              "         [0.39215686, 0.38431373, 0.37647059],\n",
              "         [0.38039216, 0.36862745, 0.36078431]]]])"
            ]
          },
          "metadata": {
            "tags": []
          },
          "execution_count": 11
        }
      ]
    },
    {
      "cell_type": "code",
      "metadata": {
        "id": "uJ9qSPYXUqp4"
      },
      "source": [
        "from tensorflow.keras.utils import to_categorical"
      ],
      "execution_count": null,
      "outputs": []
    },
    {
      "cell_type": "code",
      "metadata": {
        "id": "Ij3Jw5KdVVxz"
      },
      "source": [
        "train_labels = to_categorical(train_labels)\n",
        "test_labels = to_categorical(test_labels)"
      ],
      "execution_count": null,
      "outputs": []
    },
    {
      "cell_type": "code",
      "metadata": {
        "colab": {
          "base_uri": "https://localhost:8080/"
        },
        "id": "3qgy83gJVhVj",
        "outputId": "b7a98460-f683-4f97-d524-543322c82e31"
      },
      "source": [
        "train_labels.shape, test_labels.shape"
      ],
      "execution_count": null,
      "outputs": [
        {
          "output_type": "execute_result",
          "data": {
            "text/plain": [
              "((5000, 10), (1000, 10))"
            ]
          },
          "metadata": {
            "tags": []
          },
          "execution_count": 15
        }
      ]
    },
    {
      "cell_type": "code",
      "metadata": {
        "id": "NaJDLICHVj_f"
      },
      "source": [
        "from tensorflow.keras import models, layers"
      ],
      "execution_count": null,
      "outputs": []
    },
    {
      "cell_type": "code",
      "metadata": {
        "id": "MZIGKTeaeKyu"
      },
      "source": [
        "del model"
      ],
      "execution_count": null,
      "outputs": []
    },
    {
      "cell_type": "code",
      "metadata": {
        "id": "F2khC8tJaMqH"
      },
      "source": [
        "model = models.Sequential()"
      ],
      "execution_count": null,
      "outputs": []
    },
    {
      "cell_type": "code",
      "metadata": {
        "id": "1E4gZDigZuIU"
      },
      "source": [
        "model.add(layers.Conv2D(filters=16, kernel_size=(3,3), activation='relu', input_shape=(32,32,3)))\n",
        "model.add(layers.MaxPool2D(pool_size=(2,2)))\n",
        "\n",
        "model.add(layers.Conv2D(filters=32, kernel_size=(3,3), activation='relu'))\n",
        "model.add(layers.MaxPool2D(pool_size=(2,2)))\n",
        "\n",
        "model.add(layers.Conv2D(filters=64, kernel_size=(3,3), activation='relu'))\n",
        "\n",
        "#flatten\n",
        "model.add(layers.Flatten())\n",
        "#classification module\n",
        "model.add(layers.Dense(units=10))"
      ],
      "execution_count": null,
      "outputs": []
    },
    {
      "cell_type": "code",
      "metadata": {
        "colab": {
          "base_uri": "https://localhost:8080/"
        },
        "id": "KbIR-bIvcclP",
        "outputId": "fd6d3ea7-877a-4ff9-e53a-2bc21060ad86"
      },
      "source": [
        "model.summary()"
      ],
      "execution_count": null,
      "outputs": [
        {
          "output_type": "stream",
          "text": [
            "Model: \"sequential_2\"\n",
            "_________________________________________________________________\n",
            "Layer (type)                 Output Shape              Param #   \n",
            "=================================================================\n",
            "conv2d_6 (Conv2D)            (None, 30, 30, 16)        448       \n",
            "_________________________________________________________________\n",
            "max_pooling2d_4 (MaxPooling2 (None, 15, 15, 16)        0         \n",
            "_________________________________________________________________\n",
            "conv2d_7 (Conv2D)            (None, 13, 13, 32)        4640      \n",
            "_________________________________________________________________\n",
            "max_pooling2d_5 (MaxPooling2 (None, 6, 6, 32)          0         \n",
            "_________________________________________________________________\n",
            "conv2d_8 (Conv2D)            (None, 4, 4, 64)          18496     \n",
            "_________________________________________________________________\n",
            "flatten_2 (Flatten)          (None, 1024)              0         \n",
            "_________________________________________________________________\n",
            "dense_2 (Dense)              (None, 10)                10250     \n",
            "=================================================================\n",
            "Total params: 33,834\n",
            "Trainable params: 33,834\n",
            "Non-trainable params: 0\n",
            "_________________________________________________________________\n"
          ],
          "name": "stdout"
        }
      ]
    },
    {
      "cell_type": "code",
      "metadata": {
        "id": "ZI76ld4ncjJw"
      },
      "source": [
        "model.compile(loss=tf.keras.losses.CategoricalCrossentropy(from_logits = True), optimizer='rmsprop', metrics=['accuracy'])\n",
        "#tf.keras.losses.CategoricalCrossentropy(from_logits = True)"
      ],
      "execution_count": null,
      "outputs": []
    },
    {
      "cell_type": "code",
      "metadata": {
        "colab": {
          "base_uri": "https://localhost:8080/"
        },
        "id": "akFvFBr-ebAS",
        "outputId": "ac53610b-b191-4c70-9c4c-5334d90913e8"
      },
      "source": [
        "model.fit(x=train_images, y=train_labels, epochs=60, batch_size=64, validation_split=0.2)"
      ],
      "execution_count": null,
      "outputs": [
        {
          "output_type": "stream",
          "text": [
            "Epoch 1/60\n",
            "63/63 [==============================] - 32s 10ms/step - loss: 1.9263 - accuracy: 0.3113 - val_loss: 1.7962 - val_accuracy: 0.3480\n",
            "Epoch 2/60\n",
            "63/63 [==============================] - 0s 5ms/step - loss: 1.6760 - accuracy: 0.4173 - val_loss: 1.7303 - val_accuracy: 0.3930\n",
            "Epoch 3/60\n",
            "63/63 [==============================] - 0s 4ms/step - loss: 1.5510 - accuracy: 0.4585 - val_loss: 1.5847 - val_accuracy: 0.4420\n",
            "Epoch 4/60\n",
            "63/63 [==============================] - 0s 5ms/step - loss: 1.4488 - accuracy: 0.5050 - val_loss: 1.5874 - val_accuracy: 0.4360\n",
            "Epoch 5/60\n",
            "63/63 [==============================] - 0s 4ms/step - loss: 1.3969 - accuracy: 0.5195 - val_loss: 1.5405 - val_accuracy: 0.4610\n",
            "Epoch 6/60\n",
            "63/63 [==============================] - 0s 5ms/step - loss: 1.3328 - accuracy: 0.5390 - val_loss: 1.4277 - val_accuracy: 0.5160\n",
            "Epoch 7/60\n",
            "63/63 [==============================] - 0s 5ms/step - loss: 1.2714 - accuracy: 0.5652 - val_loss: 1.4353 - val_accuracy: 0.5240\n",
            "Epoch 8/60\n",
            "63/63 [==============================] - 0s 4ms/step - loss: 1.2245 - accuracy: 0.5897 - val_loss: 1.2944 - val_accuracy: 0.5540\n",
            "Epoch 9/60\n",
            "63/63 [==============================] - 0s 5ms/step - loss: 1.1802 - accuracy: 0.6030 - val_loss: 1.3715 - val_accuracy: 0.5340\n",
            "Epoch 10/60\n",
            "63/63 [==============================] - 0s 5ms/step - loss: 1.1428 - accuracy: 0.6148 - val_loss: 1.3731 - val_accuracy: 0.5520\n",
            "Epoch 11/60\n",
            "63/63 [==============================] - 0s 4ms/step - loss: 1.0857 - accuracy: 0.6395 - val_loss: 1.3007 - val_accuracy: 0.5500\n",
            "Epoch 12/60\n",
            "63/63 [==============================] - 0s 5ms/step - loss: 1.0689 - accuracy: 0.6413 - val_loss: 1.1837 - val_accuracy: 0.5950\n",
            "Epoch 13/60\n",
            "63/63 [==============================] - 0s 4ms/step - loss: 1.0204 - accuracy: 0.6560 - val_loss: 1.1523 - val_accuracy: 0.6140\n",
            "Epoch 14/60\n",
            "63/63 [==============================] - 0s 5ms/step - loss: 0.9933 - accuracy: 0.6683 - val_loss: 1.2916 - val_accuracy: 0.5740\n",
            "Epoch 15/60\n",
            "63/63 [==============================] - 0s 4ms/step - loss: 0.9697 - accuracy: 0.6735 - val_loss: 1.1352 - val_accuracy: 0.6180\n",
            "Epoch 16/60\n",
            "63/63 [==============================] - 0s 4ms/step - loss: 0.9278 - accuracy: 0.6840 - val_loss: 1.4763 - val_accuracy: 0.5300\n",
            "Epoch 17/60\n",
            "63/63 [==============================] - 0s 5ms/step - loss: 0.9066 - accuracy: 0.6927 - val_loss: 1.1801 - val_accuracy: 0.6300\n",
            "Epoch 18/60\n",
            "63/63 [==============================] - 0s 4ms/step - loss: 0.8743 - accuracy: 0.7045 - val_loss: 1.1308 - val_accuracy: 0.6240\n",
            "Epoch 19/60\n",
            "63/63 [==============================] - 0s 5ms/step - loss: 0.8598 - accuracy: 0.7153 - val_loss: 1.0174 - val_accuracy: 0.6740\n",
            "Epoch 20/60\n",
            "63/63 [==============================] - 0s 5ms/step - loss: 0.8340 - accuracy: 0.7190 - val_loss: 1.0835 - val_accuracy: 0.6470\n",
            "Epoch 21/60\n",
            "63/63 [==============================] - 0s 5ms/step - loss: 0.7921 - accuracy: 0.7355 - val_loss: 1.1399 - val_accuracy: 0.6270\n",
            "Epoch 22/60\n",
            "63/63 [==============================] - 0s 5ms/step - loss: 0.7848 - accuracy: 0.7387 - val_loss: 1.1687 - val_accuracy: 0.6300\n",
            "Epoch 23/60\n",
            "63/63 [==============================] - 0s 5ms/step - loss: 0.7491 - accuracy: 0.7435 - val_loss: 1.1385 - val_accuracy: 0.6210\n",
            "Epoch 24/60\n",
            "63/63 [==============================] - 0s 5ms/step - loss: 0.7408 - accuracy: 0.7483 - val_loss: 1.0771 - val_accuracy: 0.6590\n",
            "Epoch 25/60\n",
            "63/63 [==============================] - 0s 5ms/step - loss: 0.7207 - accuracy: 0.7598 - val_loss: 1.0149 - val_accuracy: 0.6840\n",
            "Epoch 26/60\n",
            "63/63 [==============================] - 0s 5ms/step - loss: 0.6863 - accuracy: 0.7765 - val_loss: 1.0322 - val_accuracy: 0.6710\n",
            "Epoch 27/60\n",
            "63/63 [==============================] - 0s 5ms/step - loss: 0.6644 - accuracy: 0.7797 - val_loss: 1.0397 - val_accuracy: 0.6790\n",
            "Epoch 28/60\n",
            "63/63 [==============================] - 0s 4ms/step - loss: 0.6330 - accuracy: 0.7855 - val_loss: 1.1039 - val_accuracy: 0.6350\n",
            "Epoch 29/60\n",
            "63/63 [==============================] - 0s 5ms/step - loss: 0.6163 - accuracy: 0.7945 - val_loss: 1.1239 - val_accuracy: 0.6360\n",
            "Epoch 30/60\n",
            "63/63 [==============================] - 0s 5ms/step - loss: 0.5917 - accuracy: 0.8025 - val_loss: 1.3009 - val_accuracy: 0.6100\n",
            "Epoch 31/60\n",
            "63/63 [==============================] - 0s 5ms/step - loss: 0.5721 - accuracy: 0.8133 - val_loss: 0.9957 - val_accuracy: 0.6860\n",
            "Epoch 32/60\n",
            "63/63 [==============================] - 0s 5ms/step - loss: 0.5517 - accuracy: 0.8177 - val_loss: 1.0695 - val_accuracy: 0.6560\n",
            "Epoch 33/60\n",
            "63/63 [==============================] - 0s 4ms/step - loss: 0.5304 - accuracy: 0.8217 - val_loss: 1.2035 - val_accuracy: 0.6330\n",
            "Epoch 34/60\n",
            "63/63 [==============================] - 0s 5ms/step - loss: 0.5192 - accuracy: 0.8260 - val_loss: 1.0751 - val_accuracy: 0.6670\n",
            "Epoch 35/60\n",
            "63/63 [==============================] - 0s 4ms/step - loss: 0.4950 - accuracy: 0.8330 - val_loss: 1.0652 - val_accuracy: 0.6760\n",
            "Epoch 36/60\n",
            "63/63 [==============================] - 0s 5ms/step - loss: 0.4687 - accuracy: 0.8497 - val_loss: 1.1461 - val_accuracy: 0.6690\n",
            "Epoch 37/60\n",
            "63/63 [==============================] - 0s 5ms/step - loss: 0.4515 - accuracy: 0.8510 - val_loss: 1.0924 - val_accuracy: 0.6720\n",
            "Epoch 38/60\n",
            "63/63 [==============================] - 0s 5ms/step - loss: 0.4289 - accuracy: 0.8565 - val_loss: 1.0959 - val_accuracy: 0.6650\n",
            "Epoch 39/60\n",
            "63/63 [==============================] - 0s 4ms/step - loss: 0.4172 - accuracy: 0.8612 - val_loss: 1.2174 - val_accuracy: 0.6560\n",
            "Epoch 40/60\n",
            "63/63 [==============================] - 0s 4ms/step - loss: 0.3960 - accuracy: 0.8755 - val_loss: 1.0290 - val_accuracy: 0.6920\n",
            "Epoch 41/60\n",
            "63/63 [==============================] - 0s 4ms/step - loss: 0.3826 - accuracy: 0.8795 - val_loss: 1.0763 - val_accuracy: 0.6780\n",
            "Epoch 42/60\n",
            "63/63 [==============================] - 0s 5ms/step - loss: 0.3620 - accuracy: 0.8857 - val_loss: 1.1585 - val_accuracy: 0.6660\n",
            "Epoch 43/60\n",
            "63/63 [==============================] - 0s 4ms/step - loss: 0.3410 - accuracy: 0.8900 - val_loss: 1.1010 - val_accuracy: 0.6940\n",
            "Epoch 44/60\n",
            "63/63 [==============================] - 0s 5ms/step - loss: 0.3270 - accuracy: 0.8955 - val_loss: 1.1193 - val_accuracy: 0.6840\n",
            "Epoch 45/60\n",
            "63/63 [==============================] - 0s 5ms/step - loss: 0.3073 - accuracy: 0.9003 - val_loss: 1.1551 - val_accuracy: 0.6920\n",
            "Epoch 46/60\n",
            "63/63 [==============================] - 0s 5ms/step - loss: 0.3001 - accuracy: 0.9013 - val_loss: 1.2430 - val_accuracy: 0.6660\n",
            "Epoch 47/60\n",
            "63/63 [==============================] - 0s 5ms/step - loss: 0.2910 - accuracy: 0.9078 - val_loss: 1.1674 - val_accuracy: 0.6870\n",
            "Epoch 48/60\n",
            "63/63 [==============================] - 0s 5ms/step - loss: 0.2703 - accuracy: 0.9165 - val_loss: 1.3286 - val_accuracy: 0.6600\n",
            "Epoch 49/60\n",
            "63/63 [==============================] - 0s 4ms/step - loss: 0.2546 - accuracy: 0.9240 - val_loss: 1.2525 - val_accuracy: 0.6790\n",
            "Epoch 50/60\n",
            "63/63 [==============================] - 0s 5ms/step - loss: 0.2324 - accuracy: 0.9270 - val_loss: 1.3498 - val_accuracy: 0.6610\n",
            "Epoch 51/60\n",
            "63/63 [==============================] - 0s 5ms/step - loss: 0.2380 - accuracy: 0.9258 - val_loss: 1.4255 - val_accuracy: 0.6540\n",
            "Epoch 52/60\n",
            "63/63 [==============================] - 0s 5ms/step - loss: 0.2084 - accuracy: 0.9362 - val_loss: 1.3121 - val_accuracy: 0.6740\n",
            "Epoch 53/60\n",
            "63/63 [==============================] - 0s 5ms/step - loss: 0.1943 - accuracy: 0.9425 - val_loss: 1.4123 - val_accuracy: 0.6830\n",
            "Epoch 54/60\n",
            "63/63 [==============================] - 0s 5ms/step - loss: 0.2094 - accuracy: 0.9345 - val_loss: 1.4569 - val_accuracy: 0.6560\n",
            "Epoch 55/60\n",
            "63/63 [==============================] - 0s 5ms/step - loss: 0.1788 - accuracy: 0.9480 - val_loss: 1.3106 - val_accuracy: 0.6840\n",
            "Epoch 56/60\n",
            "63/63 [==============================] - 0s 5ms/step - loss: 0.1623 - accuracy: 0.9542 - val_loss: 1.4316 - val_accuracy: 0.6720\n",
            "Epoch 57/60\n",
            "63/63 [==============================] - 0s 5ms/step - loss: 0.1558 - accuracy: 0.9553 - val_loss: 1.3448 - val_accuracy: 0.6980\n",
            "Epoch 58/60\n",
            "63/63 [==============================] - 0s 5ms/step - loss: 0.1537 - accuracy: 0.9542 - val_loss: 1.5212 - val_accuracy: 0.6720\n",
            "Epoch 59/60\n",
            "63/63 [==============================] - 0s 5ms/step - loss: 0.1483 - accuracy: 0.9563 - val_loss: 1.3808 - val_accuracy: 0.6910\n",
            "Epoch 60/60\n",
            "63/63 [==============================] - 0s 5ms/step - loss: 0.1306 - accuracy: 0.9615 - val_loss: 1.5427 - val_accuracy: 0.6780\n"
          ],
          "name": "stdout"
        },
        {
          "output_type": "execute_result",
          "data": {
            "text/plain": [
              "<tensorflow.python.keras.callbacks.History at 0x7f750c776590>"
            ]
          },
          "metadata": {
            "tags": []
          },
          "execution_count": 32
        }
      ]
    },
    {
      "cell_type": "code",
      "metadata": {
        "id": "g4-R8n46evh5"
      },
      "source": [
        "pred = model.predict(test_images[:2])"
      ],
      "execution_count": null,
      "outputs": []
    },
    {
      "cell_type": "code",
      "metadata": {
        "id": "JTapFqS5f_9h"
      },
      "source": [
        "pred_idx = pred.argmax(axis=1)"
      ],
      "execution_count": null,
      "outputs": []
    },
    {
      "cell_type": "code",
      "metadata": {
        "colab": {
          "base_uri": "https://localhost:8080/"
        },
        "id": "9yFPa82AgceC",
        "outputId": "5b64e096-3125-4873-e827-2ef5c4d0fb87"
      },
      "source": [
        "pred_idx"
      ],
      "execution_count": null,
      "outputs": [
        {
          "output_type": "execute_result",
          "data": {
            "text/plain": [
              "array([3, 3])"
            ]
          },
          "metadata": {
            "tags": []
          },
          "execution_count": 35
        }
      ]
    },
    {
      "cell_type": "code",
      "metadata": {
        "colab": {
          "base_uri": "https://localhost:8080/"
        },
        "id": "qQauMOW6gdae",
        "outputId": "a34e8f24-0ea8-44fb-a810-c14b5167025e"
      },
      "source": [
        "test_labels[:2]"
      ],
      "execution_count": null,
      "outputs": [
        {
          "output_type": "execute_result",
          "data": {
            "text/plain": [
              "array([[0., 0., 0., 1., 0., 0., 0., 0., 0., 0.],\n",
              "       [0., 0., 0., 1., 0., 0., 0., 0., 0., 0.]], dtype=float32)"
            ]
          },
          "metadata": {
            "tags": []
          },
          "execution_count": 36
        }
      ]
    },
    {
      "cell_type": "code",
      "metadata": {
        "colab": {
          "base_uri": "https://localhost:8080/"
        },
        "id": "a4vc-w6Ngkdi",
        "outputId": "fc38934f-2838-4932-a63a-d101dd14b5a7"
      },
      "source": [
        "loss, accuracy = model.evaluate(test_images, test_labels)"
      ],
      "execution_count": null,
      "outputs": [
        {
          "output_type": "stream",
          "text": [
            "32/32 [==============================] - 0s 5ms/step - loss: 1.4697 - accuracy: 0.7000\n"
          ],
          "name": "stdout"
        }
      ]
    },
    {
      "cell_type": "code",
      "metadata": {
        "id": "HuQ77q0ygzX8"
      },
      "source": [
        ""
      ],
      "execution_count": null,
      "outputs": []
    }
  ]
}