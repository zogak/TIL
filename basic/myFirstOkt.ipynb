{
  "nbformat": 4,
  "nbformat_minor": 0,
  "metadata": {
    "colab": {
      "name": "myFirstOkt.ipynb",
      "provenance": []
    },
    "kernelspec": {
      "name": "python3",
      "display_name": "Python 3"
    },
    "language_info": {
      "name": "python"
    }
  },
  "cells": [
    {
      "cell_type": "markdown",
      "metadata": {
        "id": "As84GaloOUEl"
      },
      "source": [
        "**Okt**\n",
        "\n",
        "<처음 배우는 딥러닝 챗봇>을 보고 연습한 내용입니다."
      ]
    },
    {
      "cell_type": "code",
      "metadata": {
        "id": "hkGUPCusHs0L"
      },
      "source": [
        "from konlpy.tag import Okt"
      ],
      "execution_count": 3,
      "outputs": []
    },
    {
      "cell_type": "code",
      "metadata": {
        "id": "6z7lqsTwH4ZM"
      },
      "source": [
        "okt = Okt()"
      ],
      "execution_count": 4,
      "outputs": []
    },
    {
      "cell_type": "code",
      "metadata": {
        "id": "THrs2S9tH6Ix"
      },
      "source": [
        "text = \"아버지가 방에 들어갑니다.\""
      ],
      "execution_count": 5,
      "outputs": []
    },
    {
      "cell_type": "code",
      "metadata": {
        "colab": {
          "base_uri": "https://localhost:8080/"
        },
        "id": "ORUC5NOyNEM-",
        "outputId": "e57f2e44-d904-4aa5-e078-6a4c30c9a69d"
      },
      "source": [
        "morphs = okt.morphs(text)\n",
        "print(morphs)"
      ],
      "execution_count": 6,
      "outputs": [
        {
          "output_type": "stream",
          "text": [
            "['아버지', '가', '방', '에', '들어갑니다', '.']\n"
          ],
          "name": "stdout"
        }
      ]
    },
    {
      "cell_type": "code",
      "metadata": {
        "colab": {
          "base_uri": "https://localhost:8080/"
        },
        "id": "hQjem23nNHXG",
        "outputId": "61b0be30-fe72-4ab6-ef1d-22c07867c295"
      },
      "source": [
        "pos = okt.pos(text)\n",
        "print(pos)"
      ],
      "execution_count": 7,
      "outputs": [
        {
          "output_type": "stream",
          "text": [
            "[('아버지', 'Noun'), ('가', 'Josa'), ('방', 'Noun'), ('에', 'Josa'), ('들어갑니다', 'Verb'), ('.', 'Punctuation')]\n"
          ],
          "name": "stdout"
        }
      ]
    },
    {
      "cell_type": "code",
      "metadata": {
        "colab": {
          "base_uri": "https://localhost:8080/"
        },
        "id": "tQNfz8diNZfP",
        "outputId": "e0e4aff4-3081-43f0-fafc-2c994f2082d5"
      },
      "source": [
        "nouns = okt.nouns(text)\n",
        "print(nouns)"
      ],
      "execution_count": 8,
      "outputs": [
        {
          "output_type": "stream",
          "text": [
            "['아버지', '방']\n"
          ],
          "name": "stdout"
        }
      ]
    },
    {
      "cell_type": "code",
      "metadata": {
        "colab": {
          "base_uri": "https://localhost:8080/"
        },
        "id": "e4t0dYs6Nzxe",
        "outputId": "9d6df803-7dcc-476d-c076-8757be245394"
      },
      "source": [
        "dd = \"오늘 날씨가 좋아요.\"\n",
        "phrases = okt.phrases(dd)\n",
        "print(phrases)"
      ],
      "execution_count": 10,
      "outputs": [
        {
          "output_type": "stream",
          "text": [
            "['오늘', '오늘 날씨', '날씨']\n"
          ],
          "name": "stdout"
        }
      ]
    },
    {
      "cell_type": "code",
      "metadata": {
        "id": "7jXlg42yOC8g"
      },
      "source": [
        ""
      ],
      "execution_count": null,
      "outputs": []
    }
  ]
}