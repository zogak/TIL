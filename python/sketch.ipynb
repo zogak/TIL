{
  "nbformat": 4,
  "nbformat_minor": 0,
  "metadata": {
    "colab": {
      "name": "sketch.ipynb",
      "provenance": []
    },
    "kernelspec": {
      "name": "python3",
      "display_name": "Python 3"
    },
    "language_info": {
      "name": "python"
    }
  },
  "cells": [
    {
      "cell_type": "code",
      "metadata": {
        "id": "51O43dSaFUjP"
      },
      "source": [
        "from functools import reduce\n",
        "\n",
        "res = reduce(lambda x, y : x+y, range(1, 101))"
      ],
      "execution_count": null,
      "outputs": []
    },
    {
      "cell_type": "code",
      "metadata": {
        "colab": {
          "base_uri": "https://localhost:8080/"
        },
        "id": "X5R0zZLhFt2R",
        "outputId": "c0c6aa9e-7fcc-4a8f-bc48-e63c8817009f"
      },
      "source": [
        "res"
      ],
      "execution_count": null,
      "outputs": [
        {
          "output_type": "execute_result",
          "data": {
            "text/plain": [
              "5050"
            ]
          },
          "metadata": {},
          "execution_count": 2
        }
      ]
    },
    {
      "cell_type": "code",
      "metadata": {
        "colab": {
          "base_uri": "https://localhost:8080/"
        },
        "id": "fxjmylrmFy79",
        "outputId": "03c37724-5f89-4c31-c760-0b72a34525b2"
      },
      "source": [
        "ans = reduce(lambda x, y:x*y, range(1, 11))\n",
        "ans"
      ],
      "execution_count": null,
      "outputs": [
        {
          "output_type": "execute_result",
          "data": {
            "text/plain": [
              "3628800"
            ]
          },
          "metadata": {},
          "execution_count": 4
        }
      ]
    },
    {
      "cell_type": "code",
      "metadata": {
        "id": "1t4VOrCQF5eg"
      },
      "source": [
        "def factorial():\n",
        "  value = int(input())\n",
        "  res = reduce(lambda x,y:x*y, range(1,value+1))\n",
        "  return res"
      ],
      "execution_count": null,
      "outputs": []
    },
    {
      "cell_type": "code",
      "metadata": {
        "colab": {
          "base_uri": "https://localhost:8080/"
        },
        "id": "8Qk4Pf6XG0ya",
        "outputId": "3e606c63-66f2-42e6-f1dc-c5b8434f8eb3"
      },
      "source": [
        "factorial()"
      ],
      "execution_count": null,
      "outputs": [
        {
          "name": "stdout",
          "output_type": "stream",
          "text": [
            "10\n"
          ]
        },
        {
          "output_type": "execute_result",
          "data": {
            "text/plain": [
              "3628800"
            ]
          },
          "metadata": {},
          "execution_count": 12
        }
      ]
    },
    {
      "cell_type": "code",
      "metadata": {
        "id": "_7OsdW_vG1sw"
      },
      "source": [
        "def fac(value):\n",
        "  res = 1\n",
        "  for i in range(2, value+1):\n",
        "    res = res*i\n",
        "  return res"
      ],
      "execution_count": null,
      "outputs": []
    },
    {
      "cell_type": "code",
      "metadata": {
        "id": "hrGSdHgrHVcb",
        "colab": {
          "base_uri": "https://localhost:8080/"
        },
        "outputId": "7f4161b5-cdea-4dbd-b943-76241c4b23c1"
      },
      "source": [
        "fac(10)"
      ],
      "execution_count": null,
      "outputs": [
        {
          "output_type": "execute_result",
          "data": {
            "text/plain": [
              "3628800"
            ]
          },
          "metadata": {},
          "execution_count": 14
        }
      ]
    },
    {
      "cell_type": "code",
      "metadata": {
        "id": "Ba9CdcWcHWZe",
        "colab": {
          "base_uri": "https://localhost:8080/"
        },
        "outputId": "47aa6075-e2e9-4dd1-9b6e-9055a9839611"
      },
      "source": [
        "f = open(\"hello.txt\", \"r\")\n",
        "contents = f.read()\n",
        "print(contents)\n",
        "f.close()"
      ],
      "execution_count": 15,
      "outputs": [
        {
          "output_type": "stream",
          "name": "stdout",
          "text": [
            "hello\n"
          ]
        }
      ]
    },
    {
      "cell_type": "code",
      "metadata": {
        "colab": {
          "base_uri": "https://localhost:8080/"
        },
        "id": "INbYY2mG4zRE",
        "outputId": "23576959-9dbb-4c0e-f5b1-e200fc1f9721"
      },
      "source": [
        "with open(\"hello.txt\") as f:\n",
        "  contents = f.read()\n",
        "  print(contents)"
      ],
      "execution_count": 16,
      "outputs": [
        {
          "output_type": "stream",
          "name": "stdout",
          "text": [
            "hello\n"
          ]
        }
      ]
    },
    {
      "cell_type": "code",
      "metadata": {
        "id": "ZhY8AKW149KI"
      },
      "source": [
        ""
      ],
      "execution_count": null,
      "outputs": []
    }
  ]
}