{
 "cells": [
  {
   "cell_type": "code",
   "execution_count": 1,
   "id": "da3a403d",
   "metadata": {},
   "outputs": [],
   "source": [
    "import numpy as np\n",
    "import pandas as pd\n",
    "import matplotlib.pyplot as plt\n",
    "import seaborn as sns\n",
    "from sklearn.linear_model import LinearRegression"
   ]
  },
  {
   "cell_type": "code",
   "execution_count": 2,
   "id": "e2bd0c6f",
   "metadata": {},
   "outputs": [],
   "source": [
    "originData = pd.read_csv('data_o.csv')"
   ]
  },
  {
   "cell_type": "code",
   "execution_count": 3,
   "id": "e87af489",
   "metadata": {
    "scrolled": true
   },
   "outputs": [
    {
     "data": {
      "text/html": [
       "<div>\n",
       "<style scoped>\n",
       "    .dataframe tbody tr th:only-of-type {\n",
       "        vertical-align: middle;\n",
       "    }\n",
       "\n",
       "    .dataframe tbody tr th {\n",
       "        vertical-align: top;\n",
       "    }\n",
       "\n",
       "    .dataframe thead th {\n",
       "        text-align: right;\n",
       "    }\n",
       "</style>\n",
       "<table border=\"1\" class=\"dataframe\">\n",
       "  <thead>\n",
       "    <tr style=\"text-align: right;\">\n",
       "      <th></th>\n",
       "      <th>valence</th>\n",
       "      <th>year</th>\n",
       "      <th>acousticness</th>\n",
       "      <th>artists</th>\n",
       "      <th>danceability</th>\n",
       "      <th>duration_ms</th>\n",
       "      <th>energy</th>\n",
       "      <th>explicit</th>\n",
       "      <th>id</th>\n",
       "      <th>instrumentalness</th>\n",
       "      <th>key</th>\n",
       "      <th>liveness</th>\n",
       "      <th>loudness</th>\n",
       "      <th>mode</th>\n",
       "      <th>name</th>\n",
       "      <th>popularity</th>\n",
       "      <th>release_date</th>\n",
       "      <th>speechiness</th>\n",
       "      <th>tempo</th>\n",
       "    </tr>\n",
       "  </thead>\n",
       "  <tbody>\n",
       "    <tr>\n",
       "      <th>0</th>\n",
       "      <td>0.0594</td>\n",
       "      <td>1921</td>\n",
       "      <td>0.982</td>\n",
       "      <td>['Sergei Rachmaninoff', 'James Levine', 'Berli...</td>\n",
       "      <td>0.279</td>\n",
       "      <td>831667</td>\n",
       "      <td>0.211</td>\n",
       "      <td>0</td>\n",
       "      <td>4BJqT0PrAfrxzMOxytFOIz</td>\n",
       "      <td>0.878</td>\n",
       "      <td>10</td>\n",
       "      <td>0.665</td>\n",
       "      <td>-20.096</td>\n",
       "      <td>1</td>\n",
       "      <td>Piano Concerto No. 3 in D Minor, Op. 30: III. ...</td>\n",
       "      <td>4</td>\n",
       "      <td>1921</td>\n",
       "      <td>0.0366</td>\n",
       "      <td>80.954</td>\n",
       "    </tr>\n",
       "    <tr>\n",
       "      <th>1</th>\n",
       "      <td>0.9630</td>\n",
       "      <td>1921</td>\n",
       "      <td>0.732</td>\n",
       "      <td>['Dennis Day']</td>\n",
       "      <td>0.819</td>\n",
       "      <td>180533</td>\n",
       "      <td>0.341</td>\n",
       "      <td>0</td>\n",
       "      <td>7xPhfUan2yNtyFG0cUWkt8</td>\n",
       "      <td>0.000</td>\n",
       "      <td>7</td>\n",
       "      <td>0.160</td>\n",
       "      <td>-12.441</td>\n",
       "      <td>1</td>\n",
       "      <td>Clancy Lowered the Boom</td>\n",
       "      <td>5</td>\n",
       "      <td>1921</td>\n",
       "      <td>0.4150</td>\n",
       "      <td>60.936</td>\n",
       "    </tr>\n",
       "    <tr>\n",
       "      <th>2</th>\n",
       "      <td>0.0394</td>\n",
       "      <td>1921</td>\n",
       "      <td>0.961</td>\n",
       "      <td>['KHP Kridhamardawa Karaton Ngayogyakarta Hadi...</td>\n",
       "      <td>0.328</td>\n",
       "      <td>500062</td>\n",
       "      <td>0.166</td>\n",
       "      <td>0</td>\n",
       "      <td>1o6I8BglA6ylDMrIELygv1</td>\n",
       "      <td>0.913</td>\n",
       "      <td>3</td>\n",
       "      <td>0.101</td>\n",
       "      <td>-14.850</td>\n",
       "      <td>1</td>\n",
       "      <td>Gati Bali</td>\n",
       "      <td>5</td>\n",
       "      <td>1921</td>\n",
       "      <td>0.0339</td>\n",
       "      <td>110.339</td>\n",
       "    </tr>\n",
       "  </tbody>\n",
       "</table>\n",
       "</div>"
      ],
      "text/plain": [
       "   valence  year  acousticness  \\\n",
       "0   0.0594  1921         0.982   \n",
       "1   0.9630  1921         0.732   \n",
       "2   0.0394  1921         0.961   \n",
       "\n",
       "                                             artists  danceability  \\\n",
       "0  ['Sergei Rachmaninoff', 'James Levine', 'Berli...         0.279   \n",
       "1                                     ['Dennis Day']         0.819   \n",
       "2  ['KHP Kridhamardawa Karaton Ngayogyakarta Hadi...         0.328   \n",
       "\n",
       "   duration_ms  energy  explicit                      id  instrumentalness  \\\n",
       "0       831667   0.211         0  4BJqT0PrAfrxzMOxytFOIz             0.878   \n",
       "1       180533   0.341         0  7xPhfUan2yNtyFG0cUWkt8             0.000   \n",
       "2       500062   0.166         0  1o6I8BglA6ylDMrIELygv1             0.913   \n",
       "\n",
       "   key  liveness  loudness  mode  \\\n",
       "0   10     0.665   -20.096     1   \n",
       "1    7     0.160   -12.441     1   \n",
       "2    3     0.101   -14.850     1   \n",
       "\n",
       "                                                name  popularity release_date  \\\n",
       "0  Piano Concerto No. 3 in D Minor, Op. 30: III. ...           4         1921   \n",
       "1                            Clancy Lowered the Boom           5         1921   \n",
       "2                                          Gati Bali           5         1921   \n",
       "\n",
       "   speechiness    tempo  \n",
       "0       0.0366   80.954  \n",
       "1       0.4150   60.936  \n",
       "2       0.0339  110.339  "
      ]
     },
     "execution_count": 3,
     "metadata": {},
     "output_type": "execute_result"
    }
   ],
   "source": [
    "originData.head(3)"
   ]
  },
  {
   "cell_type": "code",
   "execution_count": 5,
   "id": "9183ee83",
   "metadata": {},
   "outputs": [
    {
     "data": {
      "text/plain": [
       "(array([40574., 12250., 22219., 27470., 29369., 21219., 12537.,  4327.,\n",
       "          638.,    50.]),\n",
       " array([  0.,  10.,  20.,  30.,  40.,  50.,  60.,  70.,  80.,  90., 100.]),\n",
       " <BarContainer object of 10 artists>)"
      ]
     },
     "execution_count": 5,
     "metadata": {},
     "output_type": "execute_result"
    },
    {
     "data": {
      "image/png": "[encoded data removed]",
      "text/plain": [
       "<Figure size 432x288 with 1 Axes>"
      ]
     },
     "metadata": {
      "needs_background": "light"
     },
     "output_type": "display_data"
    }
   ],
   "source": [
    "#popularity histogram\n",
    "plt.hist(originData['popularity'])"
   ]
  },
  {
   "cell_type": "code",
   "execution_count": 6,
   "id": "11c53585",
   "metadata": {},
   "outputs": [
    {
     "data": {
      "text/html": [
       "<div>\n",
       "<style scoped>\n",
       "    .dataframe tbody tr th:only-of-type {\n",
       "        vertical-align: middle;\n",
       "    }\n",
       "\n",
       "    .dataframe tbody tr th {\n",
       "        vertical-align: top;\n",
       "    }\n",
       "\n",
       "    .dataframe thead th {\n",
       "        text-align: right;\n",
       "    }\n",
       "</style>\n",
       "<table border=\"1\" class=\"dataframe\">\n",
       "  <thead>\n",
       "    <tr style=\"text-align: right;\">\n",
       "      <th></th>\n",
       "      <th>valence</th>\n",
       "      <th>acousticness</th>\n",
       "      <th>artists</th>\n",
       "      <th>danceability</th>\n",
       "      <th>energy</th>\n",
       "      <th>instrumentalness</th>\n",
       "      <th>key</th>\n",
       "      <th>liveness</th>\n",
       "      <th>loudness</th>\n",
       "      <th>mode</th>\n",
       "      <th>name</th>\n",
       "      <th>popularity</th>\n",
       "      <th>speechiness</th>\n",
       "      <th>tempo</th>\n",
       "    </tr>\n",
       "  </thead>\n",
       "  <tbody>\n",
       "    <tr>\n",
       "      <th>0</th>\n",
       "      <td>0.0594</td>\n",
       "      <td>0.982</td>\n",
       "      <td>['Sergei Rachmaninoff', 'James Levine', 'Berli...</td>\n",
       "      <td>0.279</td>\n",
       "      <td>0.211</td>\n",
       "      <td>0.878</td>\n",
       "      <td>10</td>\n",
       "      <td>0.665</td>\n",
       "      <td>-20.096</td>\n",
       "      <td>1</td>\n",
       "      <td>Piano Concerto No. 3 in D Minor, Op. 30: III. ...</td>\n",
       "      <td>4</td>\n",
       "      <td>0.0366</td>\n",
       "      <td>80.954</td>\n",
       "    </tr>\n",
       "    <tr>\n",
       "      <th>1</th>\n",
       "      <td>0.9630</td>\n",
       "      <td>0.732</td>\n",
       "      <td>['Dennis Day']</td>\n",
       "      <td>0.819</td>\n",
       "      <td>0.341</td>\n",
       "      <td>0.000</td>\n",
       "      <td>7</td>\n",
       "      <td>0.160</td>\n",
       "      <td>-12.441</td>\n",
       "      <td>1</td>\n",
       "      <td>Clancy Lowered the Boom</td>\n",
       "      <td>5</td>\n",
       "      <td>0.4150</td>\n",
       "      <td>60.936</td>\n",
       "    </tr>\n",
       "    <tr>\n",
       "      <th>2</th>\n",
       "      <td>0.0394</td>\n",
       "      <td>0.961</td>\n",
       "      <td>['KHP Kridhamardawa Karaton Ngayogyakarta Hadi...</td>\n",
       "      <td>0.328</td>\n",
       "      <td>0.166</td>\n",
       "      <td>0.913</td>\n",
       "      <td>3</td>\n",
       "      <td>0.101</td>\n",
       "      <td>-14.850</td>\n",
       "      <td>1</td>\n",
       "      <td>Gati Bali</td>\n",
       "      <td>5</td>\n",
       "      <td>0.0339</td>\n",
       "      <td>110.339</td>\n",
       "    </tr>\n",
       "  </tbody>\n",
       "</table>\n",
       "</div>"
      ],
      "text/plain": [
       "   valence  acousticness                                            artists  \\\n",
       "0   0.0594         0.982  ['Sergei Rachmaninoff', 'James Levine', 'Berli...   \n",
       "1   0.9630         0.732                                     ['Dennis Day']   \n",
       "2   0.0394         0.961  ['KHP Kridhamardawa Karaton Ngayogyakarta Hadi...   \n",
       "\n",
       "   danceability  energy  instrumentalness  key  liveness  loudness  mode  \\\n",
       "0         0.279   0.211             0.878   10     0.665   -20.096     1   \n",
       "1         0.819   0.341             0.000    7     0.160   -12.441     1   \n",
       "2         0.328   0.166             0.913    3     0.101   -14.850     1   \n",
       "\n",
       "                                                name  popularity  speechiness  \\\n",
       "0  Piano Concerto No. 3 in D Minor, Op. 30: III. ...           4       0.0366   \n",
       "1                            Clancy Lowered the Boom           5       0.4150   \n",
       "2                                          Gati Bali           5       0.0339   \n",
       "\n",
       "     tempo  \n",
       "0   80.954  \n",
       "1   60.936  \n",
       "2  110.339  "
      ]
     },
     "execution_count": 6,
     "metadata": {},
     "output_type": "execute_result"
    }
   ],
   "source": [
    "#remove unnecessary columns -> data\n",
    "data = originData.iloc[:,[0,2,3,4,6,9,10,11,12,13,14,15,17,18]]\n",
    "data.head(3)"
   ]
  },
  {
   "cell_type": "code",
   "execution_count": 7,
   "id": "3a98d3e5",
   "metadata": {},
   "outputs": [],
   "source": [
    "#remove rows whose popularity < 5\n",
    "popular_idx = data[data['popularity']<5].index\n",
    "data = data.drop(popular_idx)"
   ]
  },
  {
   "cell_type": "code",
   "execution_count": 8,
   "id": "6e1a1802",
   "metadata": {},
   "outputs": [
    {
     "data": {
      "text/plain": [
       "(array([11495., 13803., 25017., 26296., 27514., 17172., 10657.,  3068.,\n",
       "          510.,    39.]),\n",
       " array([  5. ,  14.5,  24. ,  33.5,  43. ,  52.5,  62. ,  71.5,  81. ,\n",
       "         90.5, 100. ]),\n",
       " <BarContainer object of 10 artists>)"
      ]
     },
     "execution_count": 8,
     "metadata": {},
     "output_type": "execute_result"
    },
    {
     "data": {
      "image/png": "[encoded data removed]",
      "text/plain": [
       "<Figure size 432x288 with 1 Axes>"
      ]
     },
     "metadata": {
      "needs_background": "light"
     },
     "output_type": "display_data"
    }
   ],
   "source": [
    "#popularity histogram\n",
    "plt.hist(data['popularity'])"
   ]
  },
  {
   "cell_type": "code",
   "execution_count": 9,
   "id": "18567a7b",
   "metadata": {},
   "outputs": [
    {
     "data": {
      "text/plain": [
       "(135571, 14)"
      ]
     },
     "execution_count": 9,
     "metadata": {},
     "output_type": "execute_result"
    }
   ],
   "source": [
    "data.shape"
   ]
  },
  {
   "cell_type": "code",
   "execution_count": 10,
   "id": "b36ada53",
   "metadata": {},
   "outputs": [
    {
     "name": "stdout",
     "output_type": "stream",
     "text": [
      "(96126, 14)\n",
      "(39445, 14)\n"
     ]
    }
   ],
   "source": [
    "major = data[data['mode']==1]\n",
    "minor = data[data['mode']==0]\n",
    "print(major.shape)\n",
    "print(minor.shape)"
   ]
  },
  {
   "cell_type": "code",
   "execution_count": 11,
   "id": "30f2920b",
   "metadata": {},
   "outputs": [
    {
     "name": "stdout",
     "output_type": "stream",
     "text": [
      "dance: 0.0 0.988 0.5462039329945332\n",
      "energy: 0.0 1.0 0.5363639699146526\n",
      "liveness: 0.0 1.0 0.20151996791348642\n",
      "loudness: -60.0 3.744 -10.517958390806276\n",
      "speechiness: 0.0 0.968 0.07618807488326955\n",
      "tempo: 0.0 243.507 118.85225557825845\n",
      "valence: 0.0 1.0 0.5345818492081691\n",
      "acoustic: 0.0 0.996 0.41273869600187385\n",
      "instrumental 0.0 1.0 0.12326688068561745\n",
      "popularity 5 100 39.453356543803615\n"
     ]
    }
   ],
   "source": [
    "#danceability\n",
    "dance_min = data['danceability'].min()\n",
    "dance_max = data['danceability'].max()\n",
    "dance_mean = data['danceability'].mean()\n",
    "\n",
    "#energy\n",
    "energy_min = data['energy'].min()\n",
    "energy_max = data['energy'].max()\n",
    "energy_mean = data['energy'].mean()\n",
    "\n",
    "#liveness\n",
    "live_min = data['liveness'].min()\n",
    "live_max = data['liveness'].max()\n",
    "live_mean = data['liveness'].mean()\n",
    "\n",
    "#loudness\n",
    "loud_min = data['loudness'].min()\n",
    "loud_max = data['loudness'].max()\n",
    "loud_mean = data['loudness'].mean()\n",
    "\n",
    "#speechiness\n",
    "speech_min = data['speechiness'].min()\n",
    "speech_max = data['speechiness'].max()\n",
    "speech_mean = data['speechiness'].mean()\n",
    "\n",
    "#tempo\n",
    "tempo_min = data['tempo'].min()\n",
    "tempo_max = data['tempo'].max()\n",
    "tempo_mean = data['tempo'].mean()\n",
    "\n",
    "#valence\n",
    "valence_min = data['valence'].min()\n",
    "valence_max = data['valence'].max()\n",
    "valence_mean = data['valence'].mean()\n",
    "\n",
    "#acoustic\n",
    "acoustic_min = data['acousticness'].min()\n",
    "acoustic_max = data['acousticness'].max()\n",
    "acoustic_mean = data['acousticness'].mean()\n",
    "\n",
    "#instrument\n",
    "instru_min = data['instrumentalness'].min()\n",
    "instru_max = data['instrumentalness'].max()\n",
    "instru_mean = data['instrumentalness'].mean()\n",
    "\n",
    "#popularity\n",
    "popular_min = data['popularity'].min()\n",
    "popular_max = data['popularity'].max()\n",
    "popular_mean = data['popularity'].mean()\n",
    "\n",
    "print(\"dance: {} {} {}\".format(dance_min, dance_max, dance_mean))\n",
    "print(\"energy:\", energy_min, energy_max, energy_mean)\n",
    "print(\"liveness:\", live_min, live_max, live_mean)\n",
    "print(\"loudness:\", loud_min, loud_max, loud_mean)\n",
    "print(\"speechiness:\", speech_min, speech_max, speech_mean)\n",
    "print(\"tempo:\", tempo_min, tempo_max, tempo_mean)\n",
    "print(\"valence:\", valence_min, valence_max, valence_mean)\n",
    "print(\"acoustic:\", acoustic_min, acoustic_max, acoustic_mean)\n",
    "print(\"instrumental\", instru_min, instru_max, instru_mean)\n",
    "print(\"popularity\", popular_min, popular_max, popular_mean)"
   ]
  },
  {
   "cell_type": "code",
   "execution_count": 48,
   "id": "2ed37485",
   "metadata": {},
   "outputs": [
    {
     "data": {
      "text/plain": [
       "'\\ndance, energy, liveness, speechiness, acoustic, instrumental -> 0-1\\npopularity 0-100\\nloudness, tempo\\n'"
      ]
     },
     "execution_count": 48,
     "metadata": {},
     "output_type": "execute_result"
    }
   ],
   "source": [
    "\"\"\"\n",
    "dance, energy, liveness, speechiness, acoustic, instrumental -> 0-1\n",
    "popularity 0-100\n",
    "loudness, tempo\n",
    "\"\"\""
   ]
  },
  {
   "cell_type": "code",
   "execution_count": 12,
   "id": "dae6d728",
   "metadata": {},
   "outputs": [
    {
     "data": {
      "text/plain": [
       "(array([6.0000e+00, 6.0000e+00, 3.7000e+01, 2.7600e+02, 9.5400e+02,\n",
       "        3.5350e+03, 1.6159e+04, 5.3619e+04, 5.9695e+04, 1.2840e+03]),\n",
       " array([-60.    , -53.6256, -47.2512, -40.8768, -34.5024, -28.128 ,\n",
       "        -21.7536, -15.3792,  -9.0048,  -2.6304,   3.744 ]),\n",
       " <BarContainer object of 10 artists>)"
      ]
     },
     "execution_count": 12,
     "metadata": {},
     "output_type": "execute_result"
    },
    {
     "data": {
      "image/png": "[encoded data removed]",
      "text/plain": [
       "<Figure size 432x288 with 1 Axes>"
      ]
     },
     "metadata": {
      "needs_background": "light"
     },
     "output_type": "display_data"
    }
   ],
   "source": [
    "plt.hist(data['loudness'])"
   ]
  },
  {
   "cell_type": "code",
   "execution_count": 13,
   "id": "eb72c8d3",
   "metadata": {},
   "outputs": [
    {
     "data": {
      "text/plain": [
       "(22, 14)"
      ]
     },
     "execution_count": 13,
     "metadata": {},
     "output_type": "execute_result"
    }
   ],
   "source": [
    "data[data['loudness']>0].shape"
   ]
  },
  {
   "cell_type": "code",
   "execution_count": 14,
   "id": "04c49f4b",
   "metadata": {},
   "outputs": [],
   "source": [
    "# if loudness > 0 -> loudness to 0\n",
    "data.loc[data.loudness > 0, 'loudness'] = 0"
   ]
  },
  {
   "cell_type": "code",
   "execution_count": 15,
   "id": "4c69f042",
   "metadata": {},
   "outputs": [
    {
     "data": {
      "text/plain": [
       "(array([6.0000e+00, 4.0000e+00, 2.4000e+01, 1.9700e+02, 6.4100e+02,\n",
       "        2.1280e+03, 8.2990e+03, 3.3507e+04, 6.3869e+04, 2.6896e+04]),\n",
       " array([-60., -54., -48., -42., -36., -30., -24., -18., -12.,  -6.,   0.]),\n",
       " <BarContainer object of 10 artists>)"
      ]
     },
     "execution_count": 15,
     "metadata": {},
     "output_type": "execute_result"
    },
    {
     "data": {
      "image/png": "[encoded data removed]",
      "text/plain": [
       "<Figure size 432x288 with 1 Axes>"
      ]
     },
     "metadata": {
      "needs_background": "light"
     },
     "output_type": "display_data"
    }
   ],
   "source": [
    "plt.hist(data['loudness'])"
   ]
  },
  {
   "cell_type": "code",
   "execution_count": 16,
   "id": "4ba345e8",
   "metadata": {},
   "outputs": [],
   "source": [
    "data['loudness'] = (data['loudness'] + 60) / 100"
   ]
  },
  {
   "cell_type": "code",
   "execution_count": 17,
   "id": "eb778ec2",
   "metadata": {},
   "outputs": [
    {
     "name": "stdout",
     "output_type": "stream",
     "text": [
      "loudness: 0.0 0.6 0.4948191181742411\n"
     ]
    }
   ],
   "source": [
    "loud_min = data['loudness'].min()\n",
    "loud_max = data['loudness'].max()\n",
    "loud_mean = data['loudness'].mean()\n",
    "print(\"loudness:\", loud_min, loud_max, loud_mean)"
   ]
  },
  {
   "cell_type": "code",
   "execution_count": 18,
   "id": "09c23f3e",
   "metadata": {},
   "outputs": [
    {
     "data": {
      "text/plain": [
       "(array([1.0100e+02, 8.1000e+01, 3.8560e+03, 3.3250e+04, 3.9647e+04,\n",
       "        3.4653e+04, 1.4378e+04, 8.0650e+03, 1.5310e+03, 9.0000e+00]),\n",
       " array([0.      , 0.405845, 0.81169 , 1.217535, 1.62338 , 2.029225,\n",
       "        2.43507 , 2.840915, 3.24676 , 3.652605, 4.05845 ]),\n",
       " <BarContainer object of 10 artists>)"
      ]
     },
     "execution_count": 18,
     "metadata": {},
     "output_type": "execute_result"
    },
    {
     "data": {
      "image/png": "[encoded data removed]",
      "text/plain": [
       "<Figure size 432x288 with 1 Axes>"
      ]
     },
     "metadata": {
      "needs_background": "light"
     },
     "output_type": "display_data"
    }
   ],
   "source": [
    "plt.hist(data['tempo']/60)"
   ]
  },
  {
   "cell_type": "code",
   "execution_count": 19,
   "id": "1ecd26ad",
   "metadata": {},
   "outputs": [
    {
     "data": {
      "text/plain": [
       "(array([1.0100e+02, 8.1000e+01, 3.8560e+03, 3.3250e+04, 3.9647e+04,\n",
       "        3.4653e+04, 1.4378e+04, 8.0650e+03, 1.5310e+03, 9.0000e+00]),\n",
       " array([0.        , 0.10146125, 0.2029225 , 0.30438375, 0.405845  ,\n",
       "        0.50730625, 0.6087675 , 0.71022875, 0.81169   , 0.91315125,\n",
       "        1.0146125 ]),\n",
       " <BarContainer object of 10 artists>)"
      ]
     },
     "execution_count": 19,
     "metadata": {},
     "output_type": "execute_result"
    },
    {
     "data": {
      "image/png": "[encoded data removed]",
      "text/plain": [
       "<Figure size 432x288 with 1 Axes>"
      ]
     },
     "metadata": {
      "needs_background": "light"
     },
     "output_type": "display_data"
    }
   ],
   "source": [
    "plt.hist(data['tempo']/240)"
   ]
  },
  {
   "cell_type": "code",
   "execution_count": 20,
   "id": "c7ad6a11",
   "metadata": {},
   "outputs": [],
   "source": [
    "data['tempo'] = data['tempo']/240"
   ]
  },
  {
   "cell_type": "code",
   "execution_count": 21,
   "id": "00755121",
   "metadata": {},
   "outputs": [
    {
     "name": "stdout",
     "output_type": "stream",
     "text": [
      "tempo: 0.0 1.0146125 0.49521773157607013\n"
     ]
    }
   ],
   "source": [
    "tempo_min = data['tempo'].min()\n",
    "tempo_max = data['tempo'].max()\n",
    "tempo_mean = data['tempo'].mean()\n",
    "print(\"tempo:\", tempo_min, tempo_max, tempo_mean)"
   ]
  },
  {
   "cell_type": "code",
   "execution_count": 22,
   "id": "25fd25ca",
   "metadata": {},
   "outputs": [],
   "source": [
    "data.loc[data.tempo > 1, 'tempo'] = 1"
   ]
  },
  {
   "cell_type": "code",
   "execution_count": 23,
   "id": "f5d0c209",
   "metadata": {},
   "outputs": [
    {
     "name": "stdout",
     "output_type": "stream",
     "text": [
      "tempo: 0.0 1.0 0.49521752015548604\n"
     ]
    }
   ],
   "source": [
    "tempo_min = data['tempo'].min()\n",
    "tempo_max = data['tempo'].max()\n",
    "tempo_mean = data['tempo'].mean()\n",
    "print(\"tempo:\", tempo_min, tempo_max, tempo_mean)"
   ]
  },
  {
   "cell_type": "code",
   "execution_count": 24,
   "id": "09ef1523",
   "metadata": {},
   "outputs": [
    {
     "name": "stdout",
     "output_type": "stream",
     "text": [
      "2.350312584035669\n",
      "0.3917187640059448\n",
      "0.23239629345670212 0.2282096320114468 0.08574177293790472 0.21053332290150034 0.032416145580282225 0.2107028331121638\n"
     ]
    }
   ],
   "source": [
    "meanSum = dance_mean + energy_mean + live_mean + loud_mean + speech_mean + tempo_mean\n",
    "dance_percent = dance_mean / meanSum\n",
    "energy_percent = energy_mean / meanSum\n",
    "live_percent = live_mean / meanSum\n",
    "loud_percent = loud_mean / meanSum\n",
    "speech_percent = speech_mean / meanSum\n",
    "tempo_percent = tempo_mean / meanSum\n",
    "\n",
    "print(meanSum)\n",
    "print(meanSum/6)\n",
    "print(dance_percent, energy_percent, live_percent, loud_percent, speech_percent, tempo_percent)"
   ]
  },
  {
   "cell_type": "code",
   "execution_count": 25,
   "id": "581fb8e0",
   "metadata": {},
   "outputs": [],
   "source": [
    "data['percentage'] = (data['danceability'] + data['energy'] + data['liveness'] +\n",
    "                      data['loudness'] + data['speechiness'] + data['tempo']) / 6"
   ]
  },
  {
   "cell_type": "code",
   "execution_count": 26,
   "id": "6e5df415",
   "metadata": {},
   "outputs": [
    {
     "data": {
      "text/html": [
       "<div>\n",
       "<style scoped>\n",
       "    .dataframe tbody tr th:only-of-type {\n",
       "        vertical-align: middle;\n",
       "    }\n",
       "\n",
       "    .dataframe tbody tr th {\n",
       "        vertical-align: top;\n",
       "    }\n",
       "\n",
       "    .dataframe thead th {\n",
       "        text-align: right;\n",
       "    }\n",
       "</style>\n",
       "<table border=\"1\" class=\"dataframe\">\n",
       "  <thead>\n",
       "    <tr style=\"text-align: right;\">\n",
       "      <th></th>\n",
       "      <th>valence</th>\n",
       "      <th>acousticness</th>\n",
       "      <th>artists</th>\n",
       "      <th>danceability</th>\n",
       "      <th>energy</th>\n",
       "      <th>instrumentalness</th>\n",
       "      <th>key</th>\n",
       "      <th>liveness</th>\n",
       "      <th>loudness</th>\n",
       "      <th>mode</th>\n",
       "      <th>name</th>\n",
       "      <th>popularity</th>\n",
       "      <th>speechiness</th>\n",
       "      <th>tempo</th>\n",
       "      <th>percentage</th>\n",
       "    </tr>\n",
       "  </thead>\n",
       "  <tbody>\n",
       "    <tr>\n",
       "      <th>1</th>\n",
       "      <td>0.9630</td>\n",
       "      <td>0.732</td>\n",
       "      <td>['Dennis Day']</td>\n",
       "      <td>0.819</td>\n",
       "      <td>0.341</td>\n",
       "      <td>0.000</td>\n",
       "      <td>7</td>\n",
       "      <td>0.160</td>\n",
       "      <td>0.47559</td>\n",
       "      <td>1</td>\n",
       "      <td>Clancy Lowered the Boom</td>\n",
       "      <td>5</td>\n",
       "      <td>0.4150</td>\n",
       "      <td>0.253900</td>\n",
       "      <td>0.410748</td>\n",
       "    </tr>\n",
       "    <tr>\n",
       "      <th>2</th>\n",
       "      <td>0.0394</td>\n",
       "      <td>0.961</td>\n",
       "      <td>['KHP Kridhamardawa Karaton Ngayogyakarta Hadi...</td>\n",
       "      <td>0.328</td>\n",
       "      <td>0.166</td>\n",
       "      <td>0.913</td>\n",
       "      <td>3</td>\n",
       "      <td>0.101</td>\n",
       "      <td>0.45150</td>\n",
       "      <td>1</td>\n",
       "      <td>Gati Bali</td>\n",
       "      <td>5</td>\n",
       "      <td>0.0339</td>\n",
       "      <td>0.459746</td>\n",
       "      <td>0.256691</td>\n",
       "    </tr>\n",
       "    <tr>\n",
       "      <th>5</th>\n",
       "      <td>0.1960</td>\n",
       "      <td>0.579</td>\n",
       "      <td>['KHP Kridhamardawa Karaton Ngayogyakarta Hadi...</td>\n",
       "      <td>0.697</td>\n",
       "      <td>0.346</td>\n",
       "      <td>0.168</td>\n",
       "      <td>2</td>\n",
       "      <td>0.130</td>\n",
       "      <td>0.47494</td>\n",
       "      <td>1</td>\n",
       "      <td>Gati Mardika</td>\n",
       "      <td>6</td>\n",
       "      <td>0.0700</td>\n",
       "      <td>0.499267</td>\n",
       "      <td>0.369534</td>\n",
       "    </tr>\n",
       "  </tbody>\n",
       "</table>\n",
       "</div>"
      ],
      "text/plain": [
       "   valence  acousticness                                            artists  \\\n",
       "1   0.9630         0.732                                     ['Dennis Day']   \n",
       "2   0.0394         0.961  ['KHP Kridhamardawa Karaton Ngayogyakarta Hadi...   \n",
       "5   0.1960         0.579  ['KHP Kridhamardawa Karaton Ngayogyakarta Hadi...   \n",
       "\n",
       "   danceability  energy  instrumentalness  key  liveness  loudness  mode  \\\n",
       "1         0.819   0.341             0.000    7     0.160   0.47559     1   \n",
       "2         0.328   0.166             0.913    3     0.101   0.45150     1   \n",
       "5         0.697   0.346             0.168    2     0.130   0.47494     1   \n",
       "\n",
       "                      name  popularity  speechiness     tempo  percentage  \n",
       "1  Clancy Lowered the Boom           5       0.4150  0.253900    0.410748  \n",
       "2                Gati Bali           5       0.0339  0.459746    0.256691  \n",
       "5             Gati Mardika           6       0.0700  0.499267    0.369534  "
      ]
     },
     "execution_count": 26,
     "metadata": {},
     "output_type": "execute_result"
    }
   ],
   "source": [
    "data.head(3)"
   ]
  },
  {
   "cell_type": "code",
   "execution_count": 27,
   "id": "51853995",
   "metadata": {},
   "outputs": [
    {
     "name": "stdout",
     "output_type": "stream",
     "text": [
      "percentage: 0.0 0.7471270833333333 0.3917187640059432\n"
     ]
    }
   ],
   "source": [
    "percentage_min = data['percentage'].min()\n",
    "percentage_max = data['percentage'].max()\n",
    "percentage_mean = data['percentage'].mean()\n",
    "print(\"percentage:\", percentage_min, percentage_max, percentage_mean)"
   ]
  },
  {
   "cell_type": "code",
   "execution_count": 28,
   "id": "73bb1829",
   "metadata": {},
   "outputs": [
    {
     "data": {
      "text/plain": [
       "(array([2.0000e+01, 2.5500e+02, 3.8750e+03, 1.4949e+04, 3.2899e+04,\n",
       "        4.9313e+04, 2.8558e+04, 5.0110e+03, 6.3600e+02, 5.5000e+01]),\n",
       " array([0.        , 0.07471271, 0.14942542, 0.22413813, 0.29885083,\n",
       "        0.37356354, 0.44827625, 0.52298896, 0.59770167, 0.67241438,\n",
       "        0.74712708]),\n",
       " <BarContainer object of 10 artists>)"
      ]
     },
     "execution_count": 28,
     "metadata": {},
     "output_type": "execute_result"
    },
    {
     "data": {
      "image/png": "[encoded data removed]",
      "text/plain": [
       "<Figure size 432x288 with 1 Axes>"
      ]
     },
     "metadata": {
      "needs_background": "light"
     },
     "output_type": "display_data"
    }
   ],
   "source": [
    "plt.hist(data['percentage'])"
   ]
  },
  {
   "cell_type": "code",
   "execution_count": 29,
   "id": "ceba7594",
   "metadata": {},
   "outputs": [],
   "source": [
    "data['mode2'] = np.where(data['mode'] == 1, 0.25, 0)"
   ]
  },
  {
   "cell_type": "code",
   "execution_count": 30,
   "id": "35bdf0f9",
   "metadata": {},
   "outputs": [
    {
     "data": {
      "text/html": [
       "<div>\n",
       "<style scoped>\n",
       "    .dataframe tbody tr th:only-of-type {\n",
       "        vertical-align: middle;\n",
       "    }\n",
       "\n",
       "    .dataframe tbody tr th {\n",
       "        vertical-align: top;\n",
       "    }\n",
       "\n",
       "    .dataframe thead th {\n",
       "        text-align: right;\n",
       "    }\n",
       "</style>\n",
       "<table border=\"1\" class=\"dataframe\">\n",
       "  <thead>\n",
       "    <tr style=\"text-align: right;\">\n",
       "      <th></th>\n",
       "      <th>valence</th>\n",
       "      <th>acousticness</th>\n",
       "      <th>artists</th>\n",
       "      <th>danceability</th>\n",
       "      <th>energy</th>\n",
       "      <th>instrumentalness</th>\n",
       "      <th>key</th>\n",
       "      <th>liveness</th>\n",
       "      <th>loudness</th>\n",
       "      <th>mode</th>\n",
       "      <th>name</th>\n",
       "      <th>popularity</th>\n",
       "      <th>speechiness</th>\n",
       "      <th>tempo</th>\n",
       "      <th>percentage</th>\n",
       "      <th>mode2</th>\n",
       "    </tr>\n",
       "  </thead>\n",
       "  <tbody>\n",
       "    <tr>\n",
       "      <th>1</th>\n",
       "      <td>0.9630</td>\n",
       "      <td>0.732</td>\n",
       "      <td>['Dennis Day']</td>\n",
       "      <td>0.819</td>\n",
       "      <td>0.341</td>\n",
       "      <td>0.000</td>\n",
       "      <td>7</td>\n",
       "      <td>0.160</td>\n",
       "      <td>0.47559</td>\n",
       "      <td>1</td>\n",
       "      <td>Clancy Lowered the Boom</td>\n",
       "      <td>5</td>\n",
       "      <td>0.4150</td>\n",
       "      <td>0.253900</td>\n",
       "      <td>0.410748</td>\n",
       "      <td>0.25</td>\n",
       "    </tr>\n",
       "    <tr>\n",
       "      <th>2</th>\n",
       "      <td>0.0394</td>\n",
       "      <td>0.961</td>\n",
       "      <td>['KHP Kridhamardawa Karaton Ngayogyakarta Hadi...</td>\n",
       "      <td>0.328</td>\n",
       "      <td>0.166</td>\n",
       "      <td>0.913</td>\n",
       "      <td>3</td>\n",
       "      <td>0.101</td>\n",
       "      <td>0.45150</td>\n",
       "      <td>1</td>\n",
       "      <td>Gati Bali</td>\n",
       "      <td>5</td>\n",
       "      <td>0.0339</td>\n",
       "      <td>0.459746</td>\n",
       "      <td>0.256691</td>\n",
       "      <td>0.25</td>\n",
       "    </tr>\n",
       "    <tr>\n",
       "      <th>5</th>\n",
       "      <td>0.1960</td>\n",
       "      <td>0.579</td>\n",
       "      <td>['KHP Kridhamardawa Karaton Ngayogyakarta Hadi...</td>\n",
       "      <td>0.697</td>\n",
       "      <td>0.346</td>\n",
       "      <td>0.168</td>\n",
       "      <td>2</td>\n",
       "      <td>0.130</td>\n",
       "      <td>0.47494</td>\n",
       "      <td>1</td>\n",
       "      <td>Gati Mardika</td>\n",
       "      <td>6</td>\n",
       "      <td>0.0700</td>\n",
       "      <td>0.499267</td>\n",
       "      <td>0.369534</td>\n",
       "      <td>0.25</td>\n",
       "    </tr>\n",
       "  </tbody>\n",
       "</table>\n",
       "</div>"
      ],
      "text/plain": [
       "   valence  acousticness                                            artists  \\\n",
       "1   0.9630         0.732                                     ['Dennis Day']   \n",
       "2   0.0394         0.961  ['KHP Kridhamardawa Karaton Ngayogyakarta Hadi...   \n",
       "5   0.1960         0.579  ['KHP Kridhamardawa Karaton Ngayogyakarta Hadi...   \n",
       "\n",
       "   danceability  energy  instrumentalness  key  liveness  loudness  mode  \\\n",
       "1         0.819   0.341             0.000    7     0.160   0.47559     1   \n",
       "2         0.328   0.166             0.913    3     0.101   0.45150     1   \n",
       "5         0.697   0.346             0.168    2     0.130   0.47494     1   \n",
       "\n",
       "                      name  popularity  speechiness     tempo  percentage  \\\n",
       "1  Clancy Lowered the Boom           5       0.4150  0.253900    0.410748   \n",
       "2                Gati Bali           5       0.0339  0.459746    0.256691   \n",
       "5             Gati Mardika           6       0.0700  0.499267    0.369534   \n",
       "\n",
       "   mode2  \n",
       "1   0.25  \n",
       "2   0.25  \n",
       "5   0.25  "
      ]
     },
     "execution_count": 30,
     "metadata": {},
     "output_type": "execute_result"
    }
   ],
   "source": [
    "data.head(3)"
   ]
  },
  {
   "cell_type": "code",
   "execution_count": 31,
   "id": "b686948c",
   "metadata": {},
   "outputs": [],
   "source": [
    "data['percentage'] = data['percentage'] + data['mode2']"
   ]
  },
  {
   "cell_type": "code",
   "execution_count": 32,
   "id": "9b66e5cb",
   "metadata": {},
   "outputs": [
    {
     "name": "stdout",
     "output_type": "stream",
     "text": [
      "percentage: 0.0 0.9971270833333333 0.5689801252115182\n"
     ]
    }
   ],
   "source": [
    "percentage_min = data['percentage'].min()\n",
    "percentage_max = data['percentage'].max()\n",
    "percentage_mean = data['percentage'].mean()\n",
    "print(\"percentage:\", percentage_min, percentage_max, percentage_mean)"
   ]
  },
  {
   "cell_type": "code",
   "execution_count": 33,
   "id": "592a2250",
   "metadata": {},
   "outputs": [
    {
     "data": {
      "image/png": "[encoded data removed]",
      "text/plain": [
       "<Figure size 432x288 with 1 Axes>"
      ]
     },
     "metadata": {
      "needs_background": "light"
     },
     "output_type": "display_data"
    }
   ],
   "source": [
    "x = data['percentage']\n",
    "y = data['valence']\n",
    "#plt.plot(x, y, 'o')\n",
    "line = LinearRegression()\n",
    "line.fit(x.values.reshape(-1,1),y)\n",
    "plt.plot(x,y,'o')\n",
    "plt.plot(x, line.predict(x.values.reshape(-1,1)))\n",
    "plt.xlabel('perc')\n",
    "plt.ylabel('valence')\n",
    "plt.show()"
   ]
  },
  {
   "cell_type": "code",
   "execution_count": 36,
   "id": "abd0ccd4",
   "metadata": {},
   "outputs": [
    {
     "data": {
      "text/plain": [
       "valence                          0.532\n",
       "acousticness                     0.921\n",
       "artists             ['Oscar Peterson']\n",
       "danceability                     0.565\n",
       "energy                           0.209\n",
       "instrumentalness                 0.823\n",
       "key                                  0\n",
       "liveness                         0.105\n",
       "loudness                       0.39142\n",
       "mode                                 1\n",
       "name                           Carioca\n",
       "popularity                          10\n",
       "speechiness                     0.0478\n",
       "tempo                         0.395858\n",
       "percentage                     0.53568\n",
       "mode2                             0.25\n",
       "Name: 158528, dtype: object"
      ]
     },
     "execution_count": 36,
     "metadata": {},
     "output_type": "execute_result"
    }
   ],
   "source": [
    "example = data.iloc[123456]\n",
    "example"
   ]
  },
  {
   "cell_type": "code",
   "execution_count": 35,
   "id": "386cdbc3",
   "metadata": {},
   "outputs": [
    {
     "data": {
      "text/plain": [
       "valence                           0.556\n",
       "acousticness                      0.111\n",
       "artists             ['The Temptations']\n",
       "danceability                      0.626\n",
       "energy                            0.611\n",
       "instrumentalness                    0.0\n",
       "key                                   6\n",
       "liveness                          0.377\n",
       "loudness                        0.52125\n",
       "mode                                  0\n",
       "name                 This Is My Promise\n",
       "popularity                           41\n",
       "speechiness                       0.075\n",
       "tempo                            0.5752\n",
       "percentage                     0.464242\n",
       "mode2                               0.0\n",
       "Name: 70806, dtype: object"
      ]
     },
     "execution_count": 35,
     "metadata": {},
     "output_type": "execute_result"
    }
   ],
   "source": [
    "example = data.iloc[54321]\n",
    "example"
   ]
  },
  {
   "cell_type": "code",
   "execution_count": 37,
   "id": "82fe49b7",
   "metadata": {},
   "outputs": [
    {
     "data": {
      "text/plain": [
       "valence                                    0.811\n",
       "acousticness                             0.00591\n",
       "artists                               ['Eagles']\n",
       "danceability                               0.465\n",
       "energy                                     0.812\n",
       "instrumentalness                        0.000494\n",
       "key                                            7\n",
       "liveness                                   0.408\n",
       "loudness                                 0.53602\n",
       "mode                                           1\n",
       "name                Already Gone - 2013 Remaster\n",
       "popularity                                    57\n",
       "speechiness                               0.0467\n",
       "tempo                                   0.609167\n",
       "percentage                              0.729481\n",
       "mode2                                       0.25\n",
       "Name: 10444, dtype: object"
      ]
     },
     "execution_count": 37,
     "metadata": {},
     "output_type": "execute_result"
    }
   ],
   "source": [
    "example = data.iloc[7777]\n",
    "example"
   ]
  },
  {
   "cell_type": "code",
   "execution_count": 38,
   "id": "1e8c2def",
   "metadata": {},
   "outputs": [],
   "source": [
    "targetData = data.loc[:,['name','artists','percentage',\n",
    "                         'danceability','energy','liveness','loudness','speechiness','tempo','mode2',\n",
    "                         'acousticness','instrumentalness']]"
   ]
  },
  {
   "cell_type": "code",
   "execution_count": 39,
   "id": "6f5a28d0",
   "metadata": {},
   "outputs": [
    {
     "data": {
      "text/html": [
       "<div>\n",
       "<style scoped>\n",
       "    .dataframe tbody tr th:only-of-type {\n",
       "        vertical-align: middle;\n",
       "    }\n",
       "\n",
       "    .dataframe tbody tr th {\n",
       "        vertical-align: top;\n",
       "    }\n",
       "\n",
       "    .dataframe thead th {\n",
       "        text-align: right;\n",
       "    }\n",
       "</style>\n",
       "<table border=\"1\" class=\"dataframe\">\n",
       "  <thead>\n",
       "    <tr style=\"text-align: right;\">\n",
       "      <th></th>\n",
       "      <th>name</th>\n",
       "      <th>artists</th>\n",
       "      <th>percentage</th>\n",
       "      <th>danceability</th>\n",
       "      <th>energy</th>\n",
       "      <th>liveness</th>\n",
       "      <th>loudness</th>\n",
       "      <th>speechiness</th>\n",
       "      <th>tempo</th>\n",
       "      <th>mode2</th>\n",
       "      <th>acousticness</th>\n",
       "      <th>instrumentalness</th>\n",
       "    </tr>\n",
       "  </thead>\n",
       "  <tbody>\n",
       "    <tr>\n",
       "      <th>1</th>\n",
       "      <td>Clancy Lowered the Boom</td>\n",
       "      <td>['Dennis Day']</td>\n",
       "      <td>0.660748</td>\n",
       "      <td>0.819</td>\n",
       "      <td>0.341</td>\n",
       "      <td>0.160</td>\n",
       "      <td>0.47559</td>\n",
       "      <td>0.4150</td>\n",
       "      <td>0.253900</td>\n",
       "      <td>0.25</td>\n",
       "      <td>0.732</td>\n",
       "      <td>0.000</td>\n",
       "    </tr>\n",
       "    <tr>\n",
       "      <th>2</th>\n",
       "      <td>Gati Bali</td>\n",
       "      <td>['KHP Kridhamardawa Karaton Ngayogyakarta Hadi...</td>\n",
       "      <td>0.506691</td>\n",
       "      <td>0.328</td>\n",
       "      <td>0.166</td>\n",
       "      <td>0.101</td>\n",
       "      <td>0.45150</td>\n",
       "      <td>0.0339</td>\n",
       "      <td>0.459746</td>\n",
       "      <td>0.25</td>\n",
       "      <td>0.961</td>\n",
       "      <td>0.913</td>\n",
       "    </tr>\n",
       "    <tr>\n",
       "      <th>5</th>\n",
       "      <td>Gati Mardika</td>\n",
       "      <td>['KHP Kridhamardawa Karaton Ngayogyakarta Hadi...</td>\n",
       "      <td>0.619534</td>\n",
       "      <td>0.697</td>\n",
       "      <td>0.346</td>\n",
       "      <td>0.130</td>\n",
       "      <td>0.47494</td>\n",
       "      <td>0.0700</td>\n",
       "      <td>0.499267</td>\n",
       "      <td>0.25</td>\n",
       "      <td>0.579</td>\n",
       "      <td>0.168</td>\n",
       "    </tr>\n",
       "  </tbody>\n",
       "</table>\n",
       "</div>"
      ],
      "text/plain": [
       "                      name                                            artists  \\\n",
       "1  Clancy Lowered the Boom                                     ['Dennis Day']   \n",
       "2                Gati Bali  ['KHP Kridhamardawa Karaton Ngayogyakarta Hadi...   \n",
       "5             Gati Mardika  ['KHP Kridhamardawa Karaton Ngayogyakarta Hadi...   \n",
       "\n",
       "   percentage  danceability  energy  liveness  loudness  speechiness  \\\n",
       "1    0.660748         0.819   0.341     0.160   0.47559       0.4150   \n",
       "2    0.506691         0.328   0.166     0.101   0.45150       0.0339   \n",
       "5    0.619534         0.697   0.346     0.130   0.47494       0.0700   \n",
       "\n",
       "      tempo  mode2  acousticness  instrumentalness  \n",
       "1  0.253900   0.25         0.732             0.000  \n",
       "2  0.459746   0.25         0.961             0.913  \n",
       "5  0.499267   0.25         0.579             0.168  "
      ]
     },
     "execution_count": 39,
     "metadata": {},
     "output_type": "execute_result"
    }
   ],
   "source": [
    "targetData.head(3)"
   ]
  },
  {
   "cell_type": "code",
   "execution_count": 40,
   "id": "8e766562",
   "metadata": {},
   "outputs": [
    {
     "data": {
      "text/plain": [
       "(135571, 12)"
      ]
     },
     "execution_count": 40,
     "metadata": {},
     "output_type": "execute_result"
    }
   ],
   "source": [
    "targetData.shape"
   ]
  },
  {
   "cell_type": "code",
   "execution_count": 44,
   "id": "b85a80d7",
   "metadata": {},
   "outputs": [],
   "source": [
    "refinedTarget = targetData.drop_duplicates()"
   ]
  },
  {
   "cell_type": "code",
   "execution_count": 45,
   "id": "1e730da2",
   "metadata": {},
   "outputs": [
    {
     "data": {
      "text/plain": [
       "(133128, 12)"
      ]
     },
     "execution_count": 45,
     "metadata": {},
     "output_type": "execute_result"
    }
   ],
   "source": [
    "refinedTarget.shape"
   ]
  },
  {
   "cell_type": "code",
   "execution_count": 49,
   "id": "9f2943be",
   "metadata": {},
   "outputs": [],
   "source": [
    "refinedTarget = refinedTarget.drop_duplicates(['artists','percentage','danceability','energy','liveness',\n",
    "                                              'loudness','speechiness','tempo','mode2',\n",
    "                                               'acousticness','instrumentalness'])"
   ]
  },
  {
   "cell_type": "code",
   "execution_count": 50,
   "id": "60545b31",
   "metadata": {},
   "outputs": [
    {
     "data": {
      "text/plain": [
       "(133051, 12)"
      ]
     },
     "execution_count": 50,
     "metadata": {},
     "output_type": "execute_result"
    }
   ],
   "source": [
    "refinedTarget.shape"
   ]
  },
  {
   "cell_type": "code",
   "execution_count": 51,
   "id": "432b648f",
   "metadata": {},
   "outputs": [],
   "source": [
    "#targetData.to_csv('spotifyTarget.csv', encoding='utf-8-sig', index=False)\n",
    "refinedTarget.to_csv('spotifyRefinedTarget.csv', encoding='utf-8-sig', index=False)"
   ]
  },
  {
   "cell_type": "code",
   "execution_count": null,
   "id": "6ad8e410",
   "metadata": {},
   "outputs": [],
   "source": []
  }
 ],
 "metadata": {
  "kernelspec": {
   "display_name": "Python 3",
   "language": "python",
   "name": "python3"
  },
  "language_info": {
   "codemirror_mode": {
    "name": "ipython",
    "version": 3
   },
   "file_extension": ".py",
   "mimetype": "text/x-python",
   "name": "python",
   "nbconvert_exporter": "python",
   "pygments_lexer": "ipython3",
   "version": "3.8.8"
  }
 },
 "nbformat": 4,
 "nbformat_minor": 5
}
