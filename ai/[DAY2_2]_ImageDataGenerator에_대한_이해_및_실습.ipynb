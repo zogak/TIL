{
  "nbformat": 4,
  "nbformat_minor": 0,
  "metadata": {
    "colab": {
      "name": "[DAY2-2] ImageDataGenerator에 대한 이해 및 실습.ipynb",
      "provenance": [],
      "collapsed_sections": []
    },
    "kernelspec": {
      "display_name": "Python 3",
      "language": "python",
      "name": "python3"
    },
    "language_info": {
      "codemirror_mode": {
        "name": "ipython",
        "version": 3
      },
      "file_extension": ".py",
      "mimetype": "text/x-python",
      "name": "python",
      "nbconvert_exporter": "python",
      "pygments_lexer": "ipython3",
      "version": "3.6.8"
    }
  },
  "cells": [
    {
      "cell_type": "code",
      "metadata": {
        "id": "3PUX8Pbxfcmu"
      },
      "source": [
        "from tensorflow import keras\n",
        "import os"
      ],
      "execution_count": 1,
      "outputs": []
    },
    {
      "cell_type": "markdown",
      "metadata": {
        "id": "8tx5pLETRayc"
      },
      "source": [
        "### 1. Cats and Dogs 데이터셋 다운로드"
      ]
    },
    {
      "cell_type": "code",
      "metadata": {
        "id": "EU_txrdnuHIb"
      },
      "source": [
        "url = 'https://storage.googleapis.com/mledu-datasets/cats_and_dogs_filtered.zip'"
      ],
      "execution_count": 2,
      "outputs": []
    },
    {
      "cell_type": "code",
      "metadata": {
        "id": "nttUXJ5-8GBu",
        "colab": {
          "base_uri": "https://localhost:8080/"
        },
        "outputId": "d16d6639-4453-4cf7-a73e-7b6709366818"
      },
      "source": [
        "path_zip = keras.utils.get_file(fname='cats_and_dogs_filtered.zip',origin=url,\n",
        "                                extract=True, cache_dir='/content')"
      ],
      "execution_count": 3,
      "outputs": [
        {
          "output_type": "stream",
          "text": [
            "Downloading data from https://storage.googleapis.com/mledu-datasets/cats_and_dogs_filtered.zip\n",
            "68608000/68606236 [==============================] - 0s 0us/step\n"
          ],
          "name": "stdout"
        }
      ]
    },
    {
      "cell_type": "code",
      "metadata": {
        "colab": {
          "base_uri": "https://localhost:8080/",
          "height": 35
        },
        "id": "uDLEUyxfoUaS",
        "outputId": "b8175ccf-9ce1-4ba7-feb4-ecdf372e72f5"
      },
      "source": [
        "path_zip"
      ],
      "execution_count": 4,
      "outputs": [
        {
          "output_type": "execute_result",
          "data": {
            "application/vnd.google.colaboratory.intrinsic+json": {
              "type": "string"
            },
            "text/plain": [
              "'/content/datasets/cats_and_dogs_filtered.zip'"
            ]
          },
          "metadata": {
            "tags": []
          },
          "execution_count": 4
        }
      ]
    },
    {
      "cell_type": "markdown",
      "metadata": {
        "id": "PddlPaLnRlzv"
      },
      "source": [
        "### 2. ImageDataGenerator를 이용해 이미지 파일을 load 하기 위한 경로 지정"
      ]
    },
    {
      "cell_type": "code",
      "metadata": {
        "id": "xFXxSobmRqrt"
      },
      "source": [
        "train_dir = '/content/datasets/cats_and_dogs_filtered/train'"
      ],
      "execution_count": 5,
      "outputs": []
    },
    {
      "cell_type": "markdown",
      "metadata": {
        "id": "yCq6t2OFvkFf"
      },
      "source": [
        "### 3.ImageDataGenerator 객체 생성"
      ]
    },
    {
      "cell_type": "code",
      "metadata": {
        "id": "t-ZBPOW0vgVX"
      },
      "source": [
        "from tensorflow.keras.preprocessing.image import ImageDataGenerator"
      ],
      "execution_count": 6,
      "outputs": []
    },
    {
      "cell_type": "code",
      "metadata": {
        "id": "fDZ94fG4vlfW"
      },
      "source": [
        "datagen = ImageDataGenerator()"
      ],
      "execution_count": 7,
      "outputs": []
    },
    {
      "cell_type": "code",
      "metadata": {
        "id": "BfZRI8QxwLjn",
        "colab": {
          "base_uri": "https://localhost:8080/"
        },
        "outputId": "821f1bad-c042-42f7-fd67-78977f12b597"
      },
      "source": [
        "type(datagen)"
      ],
      "execution_count": 8,
      "outputs": [
        {
          "output_type": "execute_result",
          "data": {
            "text/plain": [
              "tensorflow.python.keras.preprocessing.image.ImageDataGenerator"
            ]
          },
          "metadata": {
            "tags": []
          },
          "execution_count": 8
        }
      ]
    },
    {
      "cell_type": "markdown",
      "metadata": {
        "id": "8Ntz7KcUzHc4"
      },
      "source": [
        "### 4. ImageDataGenerator.flow_from_directory() 함수 사용\n",
        "* ImageDataGenerator에 데이터를 읽어오는 경로 연결\n",
        "* 이미지 데이터를 읽어 텐서 객체로 변환하는 파이프라인 설정\n",
        "* DirectoryIterator 객체로 변화됨"
      ]
    },
    {
      "cell_type": "code",
      "metadata": {
        "id": "VxN6N_EKvt1p",
        "colab": {
          "base_uri": "https://localhost:8080/"
        },
        "outputId": "97ae994a-5037-4f62-efc2-0a6e75096ed9"
      },
      "source": [
        "train_generator = datagen.flow_from_directory(\n",
        "    directory=train_dir,\n",
        "    target_size=(150, 150),\n",
        "    batch_size=32,\n",
        "    shuffle=True,\n",
        "    class_mode='binary')"
      ],
      "execution_count": 9,
      "outputs": [
        {
          "output_type": "stream",
          "text": [
            "Found 2000 images belonging to 2 classes.\n"
          ],
          "name": "stdout"
        }
      ]
    },
    {
      "cell_type": "code",
      "metadata": {
        "id": "Rpw_Cnd_v6Rp",
        "colab": {
          "base_uri": "https://localhost:8080/"
        },
        "outputId": "0eb9d2b1-4ce2-498a-be96-469d7334947a"
      },
      "source": [
        "type(train_generator)"
      ],
      "execution_count": 10,
      "outputs": [
        {
          "output_type": "execute_result",
          "data": {
            "text/plain": [
              "tensorflow.python.keras.preprocessing.image.DirectoryIterator"
            ]
          },
          "metadata": {
            "tags": []
          },
          "execution_count": 10
        }
      ]
    },
    {
      "cell_type": "markdown",
      "metadata": {
        "id": "KDrgFJkE0Cj4"
      },
      "source": [
        "### 5. DirectoryIterator 객체의 속성 및 메서드"
      ]
    },
    {
      "cell_type": "markdown",
      "metadata": {
        "id": "IVRurPBa7fnP"
      },
      "source": [
        "* .samples : 연결된 경로에서 읽어들일 이미지 파일의 개수"
      ]
    },
    {
      "cell_type": "code",
      "metadata": {
        "id": "cm8aOtcP0O4y",
        "colab": {
          "base_uri": "https://localhost:8080/"
        },
        "outputId": "5ad3539f-7ca1-4eb7-919a-9b0800540a3b"
      },
      "source": [
        "train_generator.samples"
      ],
      "execution_count": 11,
      "outputs": [
        {
          "output_type": "execute_result",
          "data": {
            "text/plain": [
              "2000"
            ]
          },
          "metadata": {
            "tags": []
          },
          "execution_count": 11
        }
      ]
    },
    {
      "cell_type": "markdown",
      "metadata": {
        "id": "AyuvaNNl7sVw"
      },
      "source": [
        "* len() : batch 덩어리의 개수 확인 "
      ]
    },
    {
      "cell_type": "code",
      "metadata": {
        "id": "_YL7en0zHWIR",
        "colab": {
          "base_uri": "https://localhost:8080/"
        },
        "outputId": "1101a629-b94d-4497-af67-d3671875ddde"
      },
      "source": [
        "len(train_generator)"
      ],
      "execution_count": 12,
      "outputs": [
        {
          "output_type": "execute_result",
          "data": {
            "text/plain": [
              "63"
            ]
          },
          "metadata": {
            "tags": []
          },
          "execution_count": 12
        }
      ]
    },
    {
      "cell_type": "code",
      "metadata": {
        "id": "4yLSxjV80kKm",
        "colab": {
          "base_uri": "https://localhost:8080/"
        },
        "outputId": "0d12faa1-baa8-409c-e8a2-1bf66ab13777"
      },
      "source": [
        "2000/32"
      ],
      "execution_count": 13,
      "outputs": [
        {
          "output_type": "execute_result",
          "data": {
            "text/plain": [
              "62.5"
            ]
          },
          "metadata": {
            "tags": []
          },
          "execution_count": 13
        }
      ]
    },
    {
      "cell_type": "markdown",
      "metadata": {
        "id": "_WUidzQ58rK_"
      },
      "source": [
        "* next() : batch 데이터 호출"
      ]
    },
    {
      "cell_type": "code",
      "metadata": {
        "id": "0-XmogSxwZA-"
      },
      "source": [
        "x, y = next(train_generator)"
      ],
      "execution_count": 14,
      "outputs": []
    },
    {
      "cell_type": "code",
      "metadata": {
        "colab": {
          "base_uri": "https://localhost:8080/"
        },
        "id": "t9L7yeMxsaGb",
        "outputId": "6b398b3c-2131-4bac-8425-a7473a1b7cf3"
      },
      "source": [
        "x.shape, y.shape"
      ],
      "execution_count": 15,
      "outputs": [
        {
          "output_type": "execute_result",
          "data": {
            "text/plain": [
              "((32, 150, 150, 3), (32,))"
            ]
          },
          "metadata": {
            "tags": []
          },
          "execution_count": 15
        }
      ]
    },
    {
      "cell_type": "code",
      "metadata": {
        "id": "jDJ42VwKwaR6",
        "colab": {
          "base_uri": "https://localhost:8080/"
        },
        "outputId": "a27a4b00-1efd-4eaa-fdd1-91e77369c6f4"
      },
      "source": [
        "y"
      ],
      "execution_count": 16,
      "outputs": [
        {
          "output_type": "execute_result",
          "data": {
            "text/plain": [
              "array([0., 0., 1., 0., 0., 0., 0., 1., 0., 0., 1., 0., 1., 1., 0., 0., 0.,\n",
              "       0., 0., 1., 1., 1., 0., 0., 1., 0., 1., 0., 0., 0., 0., 1.],\n",
              "      dtype=float32)"
            ]
          },
          "metadata": {
            "tags": []
          },
          "execution_count": 16
        }
      ]
    },
    {
      "cell_type": "markdown",
      "metadata": {
        "id": "7nUUJs9o85k2"
      },
      "source": [
        "* .__getitem__(idx) : 원하는 index 의 batch 데이터 호출"
      ]
    },
    {
      "cell_type": "code",
      "metadata": {
        "id": "r_J09v1Iwrca"
      },
      "source": [
        "x, y = train_generator.__getitem__(0)"
      ],
      "execution_count": 17,
      "outputs": []
    },
    {
      "cell_type": "code",
      "metadata": {
        "id": "Zwd-XWtsws0F",
        "colab": {
          "base_uri": "https://localhost:8080/"
        },
        "outputId": "1ab2e10d-3a37-4692-b90b-ae9396ccba02"
      },
      "source": [
        "x.shape, y.shape"
      ],
      "execution_count": 18,
      "outputs": [
        {
          "output_type": "execute_result",
          "data": {
            "text/plain": [
              "((32, 150, 150, 3), (32,))"
            ]
          },
          "metadata": {
            "tags": []
          },
          "execution_count": 18
        }
      ]
    },
    {
      "cell_type": "code",
      "metadata": {
        "id": "BUF4p1z7wiWM"
      },
      "source": [
        "x, y = train_generator.__getitem__(62)"
      ],
      "execution_count": 19,
      "outputs": []
    },
    {
      "cell_type": "code",
      "metadata": {
        "id": "sGHTBoePwjY1",
        "colab": {
          "base_uri": "https://localhost:8080/"
        },
        "outputId": "4cbebbba-60cf-452b-a875-215d7fc0e671"
      },
      "source": [
        "x.shape, y.shape"
      ],
      "execution_count": 20,
      "outputs": [
        {
          "output_type": "execute_result",
          "data": {
            "text/plain": [
              "((16, 150, 150, 3), (16,))"
            ]
          },
          "metadata": {
            "tags": []
          },
          "execution_count": 20
        }
      ]
    },
    {
      "cell_type": "code",
      "metadata": {
        "id": "hvP0ij2NImWV"
      },
      "source": [
        "train_generator.reset()"
      ],
      "execution_count": 21,
      "outputs": []
    },
    {
      "cell_type": "code",
      "metadata": {
        "id": "Xi9BEqgPInjt",
        "colab": {
          "base_uri": "https://localhost:8080/",
          "height": 1000
        },
        "outputId": "29ef5ef3-1b16-46f0-b782-26f52839b3ee"
      },
      "source": [
        "for idx, data in enumerate(train_generator):\n",
        "  print(idx, data[0].shape)"
      ],
      "execution_count": 22,
      "outputs": [
        {
          "output_type": "stream",
          "text": [
            "0 (32, 150, 150, 3)\n",
            "1 (32, 150, 150, 3)\n",
            "2 (32, 150, 150, 3)\n",
            "3 (32, 150, 150, 3)\n",
            "4 (32, 150, 150, 3)\n",
            "5 (32, 150, 150, 3)\n",
            "6 (32, 150, 150, 3)\n",
            "7 (32, 150, 150, 3)\n",
            "8 (32, 150, 150, 3)\n",
            "9 (32, 150, 150, 3)\n",
            "10 (32, 150, 150, 3)\n",
            "11 (32, 150, 150, 3)\n",
            "12 (32, 150, 150, 3)\n",
            "13 (32, 150, 150, 3)\n",
            "14 (32, 150, 150, 3)\n",
            "15 (32, 150, 150, 3)\n",
            "16 (32, 150, 150, 3)\n",
            "17 (32, 150, 150, 3)\n",
            "18 (32, 150, 150, 3)\n",
            "19 (32, 150, 150, 3)\n",
            "20 (32, 150, 150, 3)\n",
            "21 (32, 150, 150, 3)\n",
            "22 (32, 150, 150, 3)\n",
            "23 (32, 150, 150, 3)\n",
            "24 (32, 150, 150, 3)\n",
            "25 (32, 150, 150, 3)\n",
            "26 (32, 150, 150, 3)\n",
            "27 (32, 150, 150, 3)\n",
            "28 (32, 150, 150, 3)\n",
            "29 (32, 150, 150, 3)\n",
            "30 (32, 150, 150, 3)\n",
            "31 (32, 150, 150, 3)\n",
            "32 (32, 150, 150, 3)\n",
            "33 (32, 150, 150, 3)\n",
            "34 (32, 150, 150, 3)\n",
            "35 (32, 150, 150, 3)\n",
            "36 (32, 150, 150, 3)\n",
            "37 (32, 150, 150, 3)\n",
            "38 (32, 150, 150, 3)\n",
            "39 (32, 150, 150, 3)\n",
            "40 (32, 150, 150, 3)\n",
            "41 (32, 150, 150, 3)\n",
            "42 (32, 150, 150, 3)\n",
            "43 (32, 150, 150, 3)\n",
            "44 (32, 150, 150, 3)\n",
            "45 (32, 150, 150, 3)\n",
            "46 (32, 150, 150, 3)\n",
            "47 (32, 150, 150, 3)\n",
            "48 (32, 150, 150, 3)\n",
            "49 (32, 150, 150, 3)\n",
            "50 (32, 150, 150, 3)\n",
            "51 (32, 150, 150, 3)\n",
            "52 (32, 150, 150, 3)\n",
            "53 (32, 150, 150, 3)\n",
            "54 (32, 150, 150, 3)\n",
            "55 (32, 150, 150, 3)\n",
            "56 (32, 150, 150, 3)\n",
            "57 (32, 150, 150, 3)\n",
            "58 (32, 150, 150, 3)\n",
            "59 (32, 150, 150, 3)\n",
            "60 (32, 150, 150, 3)\n",
            "61 (32, 150, 150, 3)\n",
            "62 (16, 150, 150, 3)\n",
            "63 (32, 150, 150, 3)\n",
            "64 (32, 150, 150, 3)\n",
            "65 (32, 150, 150, 3)\n",
            "66 (32, 150, 150, 3)\n",
            "67 (32, 150, 150, 3)\n",
            "68 (32, 150, 150, 3)\n",
            "69 (32, 150, 150, 3)\n",
            "70 (32, 150, 150, 3)\n",
            "71 (32, 150, 150, 3)\n",
            "72 (32, 150, 150, 3)\n",
            "73 (32, 150, 150, 3)\n",
            "74 (32, 150, 150, 3)\n",
            "75 (32, 150, 150, 3)\n",
            "76 (32, 150, 150, 3)\n",
            "77 (32, 150, 150, 3)\n",
            "78 (32, 150, 150, 3)\n",
            "79 (32, 150, 150, 3)\n",
            "80 (32, 150, 150, 3)\n",
            "81 (32, 150, 150, 3)\n",
            "82 (32, 150, 150, 3)\n",
            "83 (32, 150, 150, 3)\n",
            "84 (32, 150, 150, 3)\n",
            "85 (32, 150, 150, 3)\n",
            "86 (32, 150, 150, 3)\n",
            "87 (32, 150, 150, 3)\n",
            "88 (32, 150, 150, 3)\n",
            "89 (32, 150, 150, 3)\n",
            "90 (32, 150, 150, 3)\n",
            "91 (32, 150, 150, 3)\n",
            "92 (32, 150, 150, 3)\n",
            "93 (32, 150, 150, 3)\n",
            "94 (32, 150, 150, 3)\n",
            "95 (32, 150, 150, 3)\n",
            "96 (32, 150, 150, 3)\n",
            "97 (32, 150, 150, 3)\n",
            "98 (32, 150, 150, 3)\n",
            "99 (32, 150, 150, 3)\n",
            "100 (32, 150, 150, 3)\n",
            "101 (32, 150, 150, 3)\n",
            "102 (32, 150, 150, 3)\n",
            "103 (32, 150, 150, 3)\n",
            "104 (32, 150, 150, 3)\n",
            "105 (32, 150, 150, 3)\n",
            "106 (32, 150, 150, 3)\n",
            "107 (32, 150, 150, 3)\n",
            "108 (32, 150, 150, 3)\n",
            "109 (32, 150, 150, 3)\n",
            "110 (32, 150, 150, 3)\n",
            "111 (32, 150, 150, 3)\n",
            "112 (32, 150, 150, 3)\n",
            "113 (32, 150, 150, 3)\n",
            "114 (32, 150, 150, 3)\n",
            "115 (32, 150, 150, 3)\n",
            "116 (32, 150, 150, 3)\n",
            "117 (32, 150, 150, 3)\n",
            "118 (32, 150, 150, 3)\n",
            "119 (32, 150, 150, 3)\n",
            "120 (32, 150, 150, 3)\n",
            "121 (32, 150, 150, 3)\n",
            "122 (32, 150, 150, 3)\n",
            "123 (32, 150, 150, 3)\n",
            "124 (32, 150, 150, 3)\n",
            "125 (16, 150, 150, 3)\n",
            "126 (32, 150, 150, 3)\n",
            "127 (32, 150, 150, 3)\n",
            "128 (32, 150, 150, 3)\n",
            "129 (32, 150, 150, 3)\n",
            "130 (32, 150, 150, 3)\n",
            "131 (32, 150, 150, 3)\n",
            "132 (32, 150, 150, 3)\n",
            "133 (32, 150, 150, 3)\n",
            "134 (32, 150, 150, 3)\n",
            "135 (32, 150, 150, 3)\n",
            "136 (32, 150, 150, 3)\n",
            "137 (32, 150, 150, 3)\n",
            "138 (32, 150, 150, 3)\n",
            "139 (32, 150, 150, 3)\n",
            "140 (32, 150, 150, 3)\n",
            "141 (32, 150, 150, 3)\n",
            "142 (32, 150, 150, 3)\n",
            "143 (32, 150, 150, 3)\n",
            "144 (32, 150, 150, 3)\n",
            "145 (32, 150, 150, 3)\n",
            "146 (32, 150, 150, 3)\n",
            "147 (32, 150, 150, 3)\n",
            "148 (32, 150, 150, 3)\n",
            "149 (32, 150, 150, 3)\n",
            "150 (32, 150, 150, 3)\n",
            "151 (32, 150, 150, 3)\n",
            "152 (32, 150, 150, 3)\n",
            "153 (32, 150, 150, 3)\n",
            "154 (32, 150, 150, 3)\n",
            "155 (32, 150, 150, 3)\n",
            "156 (32, 150, 150, 3)\n",
            "157 (32, 150, 150, 3)\n",
            "158 (32, 150, 150, 3)\n",
            "159 (32, 150, 150, 3)\n",
            "160 (32, 150, 150, 3)\n",
            "161 (32, 150, 150, 3)\n",
            "162 (32, 150, 150, 3)\n",
            "163 (32, 150, 150, 3)\n",
            "164 (32, 150, 150, 3)\n",
            "165 (32, 150, 150, 3)\n",
            "166 (32, 150, 150, 3)\n",
            "167 (32, 150, 150, 3)\n",
            "168 (32, 150, 150, 3)\n",
            "169 (32, 150, 150, 3)\n",
            "170 (32, 150, 150, 3)\n",
            "171 (32, 150, 150, 3)\n",
            "172 (32, 150, 150, 3)\n",
            "173 (32, 150, 150, 3)\n",
            "174 (32, 150, 150, 3)\n",
            "175 (32, 150, 150, 3)\n",
            "176 (32, 150, 150, 3)\n",
            "177 (32, 150, 150, 3)\n",
            "178 (32, 150, 150, 3)\n",
            "179 (32, 150, 150, 3)\n",
            "180 (32, 150, 150, 3)\n",
            "181 (32, 150, 150, 3)\n",
            "182 (32, 150, 150, 3)\n",
            "183 (32, 150, 150, 3)\n",
            "184 (32, 150, 150, 3)\n",
            "185 (32, 150, 150, 3)\n",
            "186 (32, 150, 150, 3)\n",
            "187 (32, 150, 150, 3)\n",
            "188 (16, 150, 150, 3)\n",
            "189 (32, 150, 150, 3)\n",
            "190 (32, 150, 150, 3)\n",
            "191 (32, 150, 150, 3)\n",
            "192 (32, 150, 150, 3)\n",
            "193 (32, 150, 150, 3)\n",
            "194 (32, 150, 150, 3)\n",
            "195 (32, 150, 150, 3)\n",
            "196 (32, 150, 150, 3)\n",
            "197 (32, 150, 150, 3)\n",
            "198 (32, 150, 150, 3)\n",
            "199 (32, 150, 150, 3)\n",
            "200 (32, 150, 150, 3)\n",
            "201 (32, 150, 150, 3)\n",
            "202 (32, 150, 150, 3)\n",
            "203 (32, 150, 150, 3)\n",
            "204 (32, 150, 150, 3)\n",
            "205 (32, 150, 150, 3)\n",
            "206 (32, 150, 150, 3)\n",
            "207 (32, 150, 150, 3)\n",
            "208 (32, 150, 150, 3)\n",
            "209 (32, 150, 150, 3)\n",
            "210 (32, 150, 150, 3)\n",
            "211 (32, 150, 150, 3)\n",
            "212 (32, 150, 150, 3)\n",
            "213 (32, 150, 150, 3)\n",
            "214 (32, 150, 150, 3)\n",
            "215 (32, 150, 150, 3)\n",
            "216 (32, 150, 150, 3)\n",
            "217 (32, 150, 150, 3)\n",
            "218 (32, 150, 150, 3)\n",
            "219 (32, 150, 150, 3)\n",
            "220 (32, 150, 150, 3)\n",
            "221 (32, 150, 150, 3)\n",
            "222 (32, 150, 150, 3)\n",
            "223 (32, 150, 150, 3)\n",
            "224 (32, 150, 150, 3)\n",
            "225 (32, 150, 150, 3)\n"
          ],
          "name": "stdout"
        },
        {
          "output_type": "error",
          "ename": "KeyboardInterrupt",
          "evalue": "ignored",
          "traceback": [
            "\u001b[0;31m---------------------------------------------------------------------------\u001b[0m",
            "\u001b[0;31mKeyboardInterrupt\u001b[0m                         Traceback (most recent call last)",
            "\u001b[0;32m<ipython-input-22-3da4e5249014>\u001b[0m in \u001b[0;36m<module>\u001b[0;34m()\u001b[0m\n\u001b[0;32m----> 1\u001b[0;31m \u001b[0;32mfor\u001b[0m \u001b[0midx\u001b[0m\u001b[0;34m,\u001b[0m \u001b[0mdata\u001b[0m \u001b[0;32min\u001b[0m \u001b[0menumerate\u001b[0m\u001b[0;34m(\u001b[0m\u001b[0mtrain_generator\u001b[0m\u001b[0;34m)\u001b[0m\u001b[0;34m:\u001b[0m\u001b[0;34m\u001b[0m\u001b[0;34m\u001b[0m\u001b[0m\n\u001b[0m\u001b[1;32m      2\u001b[0m   \u001b[0mprint\u001b[0m\u001b[0;34m(\u001b[0m\u001b[0midx\u001b[0m\u001b[0;34m,\u001b[0m \u001b[0mdata\u001b[0m\u001b[0;34m[\u001b[0m\u001b[0;36m0\u001b[0m\u001b[0;34m]\u001b[0m\u001b[0;34m.\u001b[0m\u001b[0mshape\u001b[0m\u001b[0;34m)\u001b[0m\u001b[0;34m\u001b[0m\u001b[0;34m\u001b[0m\u001b[0m\n",
            "\u001b[0;32m/usr/local/lib/python3.7/dist-packages/keras_preprocessing/image/iterator.py\u001b[0m in \u001b[0;36m__next__\u001b[0;34m(self, *args, **kwargs)\u001b[0m\n\u001b[1;32m    102\u001b[0m \u001b[0;34m\u001b[0m\u001b[0m\n\u001b[1;32m    103\u001b[0m     \u001b[0;32mdef\u001b[0m \u001b[0m__next__\u001b[0m\u001b[0;34m(\u001b[0m\u001b[0mself\u001b[0m\u001b[0;34m,\u001b[0m \u001b[0;34m*\u001b[0m\u001b[0margs\u001b[0m\u001b[0;34m,\u001b[0m \u001b[0;34m**\u001b[0m\u001b[0mkwargs\u001b[0m\u001b[0;34m)\u001b[0m\u001b[0;34m:\u001b[0m\u001b[0;34m\u001b[0m\u001b[0;34m\u001b[0m\u001b[0m\n\u001b[0;32m--> 104\u001b[0;31m         \u001b[0;32mreturn\u001b[0m \u001b[0mself\u001b[0m\u001b[0;34m.\u001b[0m\u001b[0mnext\u001b[0m\u001b[0;34m(\u001b[0m\u001b[0;34m*\u001b[0m\u001b[0margs\u001b[0m\u001b[0;34m,\u001b[0m \u001b[0;34m**\u001b[0m\u001b[0mkwargs\u001b[0m\u001b[0;34m)\u001b[0m\u001b[0;34m\u001b[0m\u001b[0;34m\u001b[0m\u001b[0m\n\u001b[0m\u001b[1;32m    105\u001b[0m \u001b[0;34m\u001b[0m\u001b[0m\n\u001b[1;32m    106\u001b[0m     \u001b[0;32mdef\u001b[0m \u001b[0mnext\u001b[0m\u001b[0;34m(\u001b[0m\u001b[0mself\u001b[0m\u001b[0;34m)\u001b[0m\u001b[0;34m:\u001b[0m\u001b[0;34m\u001b[0m\u001b[0;34m\u001b[0m\u001b[0m\n",
            "\u001b[0;32m/usr/local/lib/python3.7/dist-packages/keras_preprocessing/image/iterator.py\u001b[0m in \u001b[0;36mnext\u001b[0;34m(self)\u001b[0m\n\u001b[1;32m    114\u001b[0m         \u001b[0;31m# The transformation of images is not under thread lock\u001b[0m\u001b[0;34m\u001b[0m\u001b[0;34m\u001b[0m\u001b[0;34m\u001b[0m\u001b[0m\n\u001b[1;32m    115\u001b[0m         \u001b[0;31m# so it can be done in parallel\u001b[0m\u001b[0;34m\u001b[0m\u001b[0;34m\u001b[0m\u001b[0;34m\u001b[0m\u001b[0m\n\u001b[0;32m--> 116\u001b[0;31m         \u001b[0;32mreturn\u001b[0m \u001b[0mself\u001b[0m\u001b[0;34m.\u001b[0m\u001b[0m_get_batches_of_transformed_samples\u001b[0m\u001b[0;34m(\u001b[0m\u001b[0mindex_array\u001b[0m\u001b[0;34m)\u001b[0m\u001b[0;34m\u001b[0m\u001b[0;34m\u001b[0m\u001b[0m\n\u001b[0m\u001b[1;32m    117\u001b[0m \u001b[0;34m\u001b[0m\u001b[0m\n\u001b[1;32m    118\u001b[0m     \u001b[0;32mdef\u001b[0m \u001b[0m_get_batches_of_transformed_samples\u001b[0m\u001b[0;34m(\u001b[0m\u001b[0mself\u001b[0m\u001b[0;34m,\u001b[0m \u001b[0mindex_array\u001b[0m\u001b[0;34m)\u001b[0m\u001b[0;34m:\u001b[0m\u001b[0;34m\u001b[0m\u001b[0;34m\u001b[0m\u001b[0m\n",
            "\u001b[0;32m/usr/local/lib/python3.7/dist-packages/keras_preprocessing/image/iterator.py\u001b[0m in \u001b[0;36m_get_batches_of_transformed_samples\u001b[0;34m(self, index_array)\u001b[0m\n\u001b[1;32m    228\u001b[0m                            \u001b[0mcolor_mode\u001b[0m\u001b[0;34m=\u001b[0m\u001b[0mself\u001b[0m\u001b[0;34m.\u001b[0m\u001b[0mcolor_mode\u001b[0m\u001b[0;34m,\u001b[0m\u001b[0;34m\u001b[0m\u001b[0;34m\u001b[0m\u001b[0m\n\u001b[1;32m    229\u001b[0m                            \u001b[0mtarget_size\u001b[0m\u001b[0;34m=\u001b[0m\u001b[0mself\u001b[0m\u001b[0;34m.\u001b[0m\u001b[0mtarget_size\u001b[0m\u001b[0;34m,\u001b[0m\u001b[0;34m\u001b[0m\u001b[0;34m\u001b[0m\u001b[0m\n\u001b[0;32m--> 230\u001b[0;31m                            interpolation=self.interpolation)\n\u001b[0m\u001b[1;32m    231\u001b[0m             \u001b[0mx\u001b[0m \u001b[0;34m=\u001b[0m \u001b[0mimg_to_array\u001b[0m\u001b[0;34m(\u001b[0m\u001b[0mimg\u001b[0m\u001b[0;34m,\u001b[0m \u001b[0mdata_format\u001b[0m\u001b[0;34m=\u001b[0m\u001b[0mself\u001b[0m\u001b[0;34m.\u001b[0m\u001b[0mdata_format\u001b[0m\u001b[0;34m)\u001b[0m\u001b[0;34m\u001b[0m\u001b[0;34m\u001b[0m\u001b[0m\n\u001b[1;32m    232\u001b[0m             \u001b[0;31m# Pillow images should be closed after `load_img`,\u001b[0m\u001b[0;34m\u001b[0m\u001b[0;34m\u001b[0m\u001b[0;34m\u001b[0m\u001b[0m\n",
            "\u001b[0;32m/usr/local/lib/python3.7/dist-packages/keras_preprocessing/image/utils.py\u001b[0m in \u001b[0;36mload_img\u001b[0;34m(path, grayscale, color_mode, target_size, interpolation)\u001b[0m\n\u001b[1;32m    136\u001b[0m                             \", \".join(_PIL_INTERPOLATION_METHODS.keys())))\n\u001b[1;32m    137\u001b[0m                 \u001b[0mresample\u001b[0m \u001b[0;34m=\u001b[0m \u001b[0m_PIL_INTERPOLATION_METHODS\u001b[0m\u001b[0;34m[\u001b[0m\u001b[0minterpolation\u001b[0m\u001b[0;34m]\u001b[0m\u001b[0;34m\u001b[0m\u001b[0;34m\u001b[0m\u001b[0m\n\u001b[0;32m--> 138\u001b[0;31m                 \u001b[0mimg\u001b[0m \u001b[0;34m=\u001b[0m \u001b[0mimg\u001b[0m\u001b[0;34m.\u001b[0m\u001b[0mresize\u001b[0m\u001b[0;34m(\u001b[0m\u001b[0mwidth_height_tuple\u001b[0m\u001b[0;34m,\u001b[0m \u001b[0mresample\u001b[0m\u001b[0;34m)\u001b[0m\u001b[0;34m\u001b[0m\u001b[0;34m\u001b[0m\u001b[0m\n\u001b[0m\u001b[1;32m    139\u001b[0m         \u001b[0;32mreturn\u001b[0m \u001b[0mimg\u001b[0m\u001b[0;34m\u001b[0m\u001b[0;34m\u001b[0m\u001b[0m\n\u001b[1;32m    140\u001b[0m \u001b[0;34m\u001b[0m\u001b[0m\n",
            "\u001b[0;32m/usr/local/lib/python3.7/dist-packages/PIL/Image.py\u001b[0m in \u001b[0;36mresize\u001b[0;34m(self, size, resample, box, reducing_gap)\u001b[0m\n\u001b[1;32m   1884\u001b[0m             \u001b[0;32mreturn\u001b[0m \u001b[0mim\u001b[0m\u001b[0;34m.\u001b[0m\u001b[0mconvert\u001b[0m\u001b[0;34m(\u001b[0m\u001b[0mself\u001b[0m\u001b[0;34m.\u001b[0m\u001b[0mmode\u001b[0m\u001b[0;34m)\u001b[0m\u001b[0;34m\u001b[0m\u001b[0;34m\u001b[0m\u001b[0m\n\u001b[1;32m   1885\u001b[0m \u001b[0;34m\u001b[0m\u001b[0m\n\u001b[0;32m-> 1886\u001b[0;31m         \u001b[0mself\u001b[0m\u001b[0;34m.\u001b[0m\u001b[0mload\u001b[0m\u001b[0;34m(\u001b[0m\u001b[0;34m)\u001b[0m\u001b[0;34m\u001b[0m\u001b[0;34m\u001b[0m\u001b[0m\n\u001b[0m\u001b[1;32m   1887\u001b[0m \u001b[0;34m\u001b[0m\u001b[0m\n\u001b[1;32m   1888\u001b[0m         \u001b[0;32mif\u001b[0m \u001b[0mreducing_gap\u001b[0m \u001b[0;32mis\u001b[0m \u001b[0;32mnot\u001b[0m \u001b[0;32mNone\u001b[0m \u001b[0;32mand\u001b[0m \u001b[0mresample\u001b[0m \u001b[0;34m!=\u001b[0m \u001b[0mNEAREST\u001b[0m\u001b[0;34m:\u001b[0m\u001b[0;34m\u001b[0m\u001b[0;34m\u001b[0m\u001b[0m\n",
            "\u001b[0;32m/usr/local/lib/python3.7/dist-packages/PIL/ImageFile.py\u001b[0m in \u001b[0;36mload\u001b[0;34m(self)\u001b[0m\n\u001b[1;32m    249\u001b[0m \u001b[0;34m\u001b[0m\u001b[0m\n\u001b[1;32m    250\u001b[0m                             \u001b[0mb\u001b[0m \u001b[0;34m=\u001b[0m \u001b[0mb\u001b[0m \u001b[0;34m+\u001b[0m \u001b[0ms\u001b[0m\u001b[0;34m\u001b[0m\u001b[0;34m\u001b[0m\u001b[0m\n\u001b[0;32m--> 251\u001b[0;31m                             \u001b[0mn\u001b[0m\u001b[0;34m,\u001b[0m \u001b[0merr_code\u001b[0m \u001b[0;34m=\u001b[0m \u001b[0mdecoder\u001b[0m\u001b[0;34m.\u001b[0m\u001b[0mdecode\u001b[0m\u001b[0;34m(\u001b[0m\u001b[0mb\u001b[0m\u001b[0;34m)\u001b[0m\u001b[0;34m\u001b[0m\u001b[0;34m\u001b[0m\u001b[0m\n\u001b[0m\u001b[1;32m    252\u001b[0m                             \u001b[0;32mif\u001b[0m \u001b[0mn\u001b[0m \u001b[0;34m<\u001b[0m \u001b[0;36m0\u001b[0m\u001b[0;34m:\u001b[0m\u001b[0;34m\u001b[0m\u001b[0;34m\u001b[0m\u001b[0m\n\u001b[1;32m    253\u001b[0m                                 \u001b[0;32mbreak\u001b[0m\u001b[0;34m\u001b[0m\u001b[0;34m\u001b[0m\u001b[0m\n",
            "\u001b[0;31mKeyboardInterrupt\u001b[0m: "
          ]
        }
      ]
    },
    {
      "cell_type": "code",
      "metadata": {
        "id": "ipgRk9gwJCjd"
      },
      "source": [
        ""
      ],
      "execution_count": null,
      "outputs": []
    }
  ]
}